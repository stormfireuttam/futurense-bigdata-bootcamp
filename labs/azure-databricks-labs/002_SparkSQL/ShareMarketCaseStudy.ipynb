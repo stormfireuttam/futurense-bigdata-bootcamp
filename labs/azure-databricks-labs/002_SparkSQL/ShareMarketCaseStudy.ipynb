{
 "cells": [
  {
   "cell_type": "code",
   "execution_count": 0,
   "metadata": {
    "application/vnd.databricks.v1+cell": {
     "cellMetadata": {
      "byteLimit": 2048000,
      "rowLimit": 10000
     },
     "inputWidgets": {},
     "nuid": "a1ef0014-c8ec-4d87-8ccd-a56bc40be503",
     "showTitle": false,
     "title": ""
    }
   },
   "outputs": [],
   "source": [
    "from pyspark import SparkContext"
   ]
  },
  {
   "cell_type": "code",
   "execution_count": 0,
   "metadata": {
    "application/vnd.databricks.v1+cell": {
     "cellMetadata": {
      "byteLimit": 2048000,
      "rowLimit": 10000
     },
     "inputWidgets": {},
     "nuid": "9d3074a6-58d2-42e5-ad9d-62dc909d2eaa",
     "showTitle": false,
     "title": ""
    }
   },
   "outputs": [],
   "source": [
    "shares_rdd = sc.textFile('/FileStore/tables/sharemarket.csv')"
   ]
  },
  {
   "cell_type": "code",
   "execution_count": 0,
   "metadata": {
    "application/vnd.databricks.v1+cell": {
     "cellMetadata": {
      "byteLimit": 2048000,
      "rowLimit": 10000
     },
     "inputWidgets": {},
     "nuid": "fb060752-0e97-418d-8af4-6f48220a91b2",
     "showTitle": false,
     "title": ""
    }
   },
   "outputs": [
    {
     "output_type": "stream",
     "name": "stdout",
     "output_type": "stream",
     "text": [
      "Out[3]: ['N,N1,IRFC,BOND 8.00% PA TAX FREE S1,1086,1085,1085,1084.54,1085,3371959.44,3108, ,8,1194,1050',\n 'N,N1,JNPT,BOND 6.82% PA TAX FREE S1,1001,1007.1,1015,1007.1,1015,51370,51, ,2,1529.99,1000',\n 'N,N1,NHAI,BOND 8.20% PA TAX FREE S1,1091.38,1092,1092,1087,1089.98,3861145.49,3544, ,39,1140,1045',\n 'N,N1,NTPC,8.41%S-R-NCD SERIES 1A,1198.99,1135,1135,1135,1135,113500,100, ,1,1275,1022.1',\n 'N,N1,RECLTD,TAXFREE SEC NCD TR1 S1,1083.54,1088,1088,1085,1085,108530,100, ,2,1184.8,1041']"
     ]
    }
   ],
   "source": [
    "shares_rdd.take(5)"
   ]
  },
  {
   "cell_type": "code",
   "execution_count": 0,
   "metadata": {
    "application/vnd.databricks.v1+cell": {
     "cellMetadata": {
      "byteLimit": 2048000,
      "rowLimit": 10000
     },
     "inputWidgets": {},
     "nuid": "3fac5d2a-c76c-4c5c-8a35-cdc8acd5279e",
     "showTitle": false,
     "title": ""
    }
   },
   "outputs": [],
   "source": [
    "header = 'MARKET,SERIES,SYMBOL,SECURITY,PREV_CL_PR,OPEN_PRICE,HIGH_PRICE,LOW_PRICE,CLOSE_PRICE,NET_TRDVAL,NET_TRDQTY,CORP_IND,TRADES,HI_52_WK,LO_52_WK'"
   ]
  },
  {
   "cell_type": "code",
   "execution_count": 0,
   "metadata": {
    "application/vnd.databricks.v1+cell": {
     "cellMetadata": {
      "byteLimit": 2048000,
      "rowLimit": 10000
     },
     "inputWidgets": {},
     "nuid": "2fbb960e-76b6-4b9d-b853-1c8e40d7058f",
     "showTitle": false,
     "title": ""
    }
   },
   "outputs": [],
   "source": [
    "shares_rdd = shares_rdd.map(lambda x : x.split(','))"
   ]
  },
  {
   "cell_type": "code",
   "execution_count": 0,
   "metadata": {
    "application/vnd.databricks.v1+cell": {
     "cellMetadata": {
      "byteLimit": 2048000,
      "rowLimit": 10000
     },
     "inputWidgets": {},
     "nuid": "4e2f08e0-65a5-43c6-b9ce-3fdefa3035ec",
     "showTitle": false,
     "title": ""
    }
   },
   "outputs": [
    {
     "output_type": "stream",
     "name": "stdout",
     "output_type": "stream",
     "text": [
      "Out[6]: [['N',\n  'N1',\n  'IRFC',\n  'BOND 8.00% PA TAX FREE S1',\n  '1086',\n  '1085',\n  '1085',\n  '1084.54',\n  '1085',\n  '3371959.44',\n  '3108',\n  ' ',\n  '8',\n  '1194',\n  '1050'],\n ['N',\n  'N1',\n  'JNPT',\n  'BOND 6.82% PA TAX FREE S1',\n  '1001',\n  '1007.1',\n  '1015',\n  '1007.1',\n  '1015',\n  '51370',\n  '51',\n  ' ',\n  '2',\n  '1529.99',\n  '1000'],\n ['N',\n  'N1',\n  'NHAI',\n  'BOND 8.20% PA TAX FREE S1',\n  '1091.38',\n  '1092',\n  '1092',\n  '1087',\n  '1089.98',\n  '3861145.49',\n  '3544',\n  ' ',\n  '39',\n  '1140',\n  '1045'],\n ['N',\n  'N1',\n  'NTPC',\n  '8.41%S-R-NCD SERIES 1A',\n  '1198.99',\n  '1135',\n  '1135',\n  '1135',\n  '1135',\n  '113500',\n  '100',\n  ' ',\n  '1',\n  '1275',\n  '1022.1'],\n ['N',\n  'N1',\n  'RECLTD',\n  'TAXFREE SEC NCD TR1 S1',\n  '1083.54',\n  '1088',\n  '1088',\n  '1085',\n  '1085',\n  '108530',\n  '100',\n  ' ',\n  '2',\n  '1184.8',\n  '1041']]"
     ]
    }
   ],
   "source": [
    "shares_rdd.take(5)"
   ]
  },
  {
   "cell_type": "code",
   "execution_count": 0,
   "metadata": {
    "application/vnd.databricks.v1+cell": {
     "cellMetadata": {
      "byteLimit": 2048000,
      "rowLimit": 10000
     },
     "inputWidgets": {},
     "nuid": "767f0d02-d693-4ba3-a33e-72285795dd28",
     "showTitle": false,
     "title": ""
    }
   },
   "outputs": [],
   "source": [
    "from pyspark.sql.types import StructType, StructField, StringType, FloatType, IntegerType\n",
    "\n",
    "schema = StructType([ \\\n",
    "    StructField(\"MARKET\",StringType(),True), \\\n",
    "    StructField(\"SERIES\",StringType(),True), \\\n",
    "    StructField(\"SYMBOL\",StringType(),True), \\\n",
    "    StructField(\"SECURITY\", StringType(), True), \\\n",
    "    StructField(\"PREV_CL_PR\", StringType(), True), \\\n",
    "    StructField(\"OPEN_PRICE\", StringType(), True), \\\n",
    "    StructField(\"HIGH_PRICE\", StringType(), True), \\\n",
    "    StructField(\"LOW_PRICE\", StringType(), True), \\\n",
    "    StructField(\"CLOSE_PRICE\", StringType(), True), \\\n",
    "    StructField(\"NET_TRDVAL\", StringType(), True) ,\\\n",
    "    StructField(\"NET_TRDQTY\", StringType(), True) ,\\\n",
    "    StructField(\"CORP_IND\", StringType(), True), \\\n",
    "    StructField(\"TRADES\", StringType(), True), \\\n",
    "    StructField(\"HI_52_WK\", StringType(), True), \\\n",
    "    StructField(\"LO_52_WK\", StringType(), True) \\\n",
    "  ])"
   ]
  },
  {
   "cell_type": "code",
   "execution_count": 0,
   "metadata": {
    "application/vnd.databricks.v1+cell": {
     "cellMetadata": {
      "byteLimit": 2048000,
      "rowLimit": 10000
     },
     "inputWidgets": {},
     "nuid": "203455a7-e832-4f88-96cb-5de53fd413c4",
     "showTitle": false,
     "title": ""
    }
   },
   "outputs": [],
   "source": [
    "shares_df = spark.createDataFrame(shares_rdd, schema)"
   ]
  },
  {
   "cell_type": "code",
   "execution_count": 0,
   "metadata": {
    "application/vnd.databricks.v1+cell": {
     "cellMetadata": {
      "byteLimit": 2048000,
      "rowLimit": 10000
     },
     "inputWidgets": {},
     "nuid": "2af246b9-f3ac-4901-9c28-c67e4567b744",
     "showTitle": false,
     "title": ""
    }
   },
   "outputs": [
    {
     "output_type": "stream",
     "name": "stdout",
     "output_type": "stream",
     "text": [
      "+------+------+------+--------------------+----------+----------+----------+---------+-----------+----------+----------+--------+------+--------+--------+\n|MARKET|SERIES|SYMBOL|            SECURITY|PREV_CL_PR|OPEN_PRICE|HIGH_PRICE|LOW_PRICE|CLOSE_PRICE|NET_TRDVAL|NET_TRDQTY|CORP_IND|TRADES|HI_52_WK|LO_52_WK|\n+------+------+------+--------------------+----------+----------+----------+---------+-----------+----------+----------+--------+------+--------+--------+\n|     N|    N1|  IRFC|BOND 8.00% PA TAX...|      1086|      1085|      1085|  1084.54|       1085|3371959.44|      3108|        |     8|    1194|    1050|\n|     N|    N1|  JNPT|BOND 6.82% PA TAX...|      1001|    1007.1|      1015|   1007.1|       1015|     51370|        51|        |     2| 1529.99|    1000|\n|     N|    N1|  NHAI|BOND 8.20% PA TAX...|   1091.38|      1092|      1092|     1087|    1089.98|3861145.49|      3544|        |    39|    1140|    1045|\n|     N|    N1|  NTPC|8.41%S-R-NCD SERI...|   1198.99|      1135|      1135|     1135|       1135|    113500|       100|        |     1|    1275|  1022.1|\n|     N|    N1|RECLTD|TAXFREE SEC NCD T...|   1083.54|      1088|      1088|     1085|       1085|    108530|       100|        |     2|  1184.8|    1041|\n+------+------+------+--------------------+----------+----------+----------+---------+-----------+----------+----------+--------+------+--------+--------+\nonly showing top 5 rows\n\n"
     ]
    }
   ],
   "source": [
    "shares_df.show(5)"
   ]
  },
  {
   "cell_type": "code",
   "execution_count": 0,
   "metadata": {
    "application/vnd.databricks.v1+cell": {
     "cellMetadata": {
      "byteLimit": 2048000,
      "rowLimit": 10000
     },
     "inputWidgets": {},
     "nuid": "ebe3c35f-cca6-4fcc-88ad-dba373fade14",
     "showTitle": false,
     "title": ""
    }
   },
   "outputs": [],
   "source": [
    "shares_df.createOrReplaceTempView('ShareMarket')"
   ]
  },
  {
   "cell_type": "code",
   "execution_count": 0,
   "metadata": {
    "application/vnd.databricks.v1+cell": {
     "cellMetadata": {
      "byteLimit": 2048000,
      "rowLimit": 10000
     },
     "inputWidgets": {},
     "nuid": "1a2aaf13-b131-4a57-be81-77270c254d2a",
     "showTitle": false,
     "title": ""
    }
   },
   "outputs": [
    {
     "output_type": "stream",
     "name": "stdout",
     "output_type": "stream",
     "text": [
      "+-----------+---------+-------+\n|   col_name|data_type|comment|\n+-----------+---------+-------+\n|     MARKET|   string|   null|\n|     SERIES|   string|   null|\n|     SYMBOL|   string|   null|\n|   SECURITY|   string|   null|\n| PREV_CL_PR|   string|   null|\n| OPEN_PRICE|   string|   null|\n| HIGH_PRICE|   string|   null|\n|  LOW_PRICE|   string|   null|\n|CLOSE_PRICE|   string|   null|\n| NET_TRDVAL|   string|   null|\n| NET_TRDQTY|   string|   null|\n|   CORP_IND|   string|   null|\n|     TRADES|   string|   null|\n|   HI_52_WK|   string|   null|\n|   LO_52_WK|   string|   null|\n+-----------+---------+-------+\n\n"
     ]
    }
   ],
   "source": [
    "spark.sql('desc ShareMarket').show()"
   ]
  },
  {
   "cell_type": "code",
   "execution_count": 0,
   "metadata": {
    "application/vnd.databricks.v1+cell": {
     "cellMetadata": {
      "byteLimit": 2048000,
      "rowLimit": 10000
     },
     "inputWidgets": {},
     "nuid": "f993e1e8-b4d8-452f-907c-a2db22467584",
     "showTitle": false,
     "title": ""
    }
   },
   "outputs": [
    {
     "output_type": "stream",
     "name": "stdout",
     "output_type": "stream",
     "text": [
      "+------+------+------+--------------------+----------+----------+----------+---------+-----------+----------+----------+--------+------+--------+--------+\n|MARKET|SERIES|SYMBOL|            SECURITY|PREV_CL_PR|OPEN_PRICE|HIGH_PRICE|LOW_PRICE|CLOSE_PRICE|NET_TRDVAL|NET_TRDQTY|CORP_IND|TRADES|HI_52_WK|LO_52_WK|\n+------+------+------+--------------------+----------+----------+----------+---------+-----------+----------+----------+--------+------+--------+--------+\n|     N|    N1|  IRFC|BOND 8.00% PA TAX...|      1086|      1085|      1085|  1084.54|       1085|3371959.44|      3108|        |     8|    1194|    1050|\n|     N|    N1|  JNPT|BOND 6.82% PA TAX...|      1001|    1007.1|      1015|   1007.1|       1015|     51370|        51|        |     2| 1529.99|    1000|\n|     N|    N1|  NHAI|BOND 8.20% PA TAX...|   1091.38|      1092|      1092|     1087|    1089.98|3861145.49|      3544|        |    39|    1140|    1045|\n|     N|    N1|  NTPC|8.41%S-R-NCD SERI...|   1198.99|      1135|      1135|     1135|       1135|    113500|       100|        |     1|    1275|  1022.1|\n|     N|    N1|RECLTD|TAXFREE SEC NCD T...|   1083.54|      1088|      1088|     1085|       1085|    108530|       100|        |     2|  1184.8|    1041|\n+------+------+------+--------------------+----------+----------+----------+---------+-----------+----------+----------+--------+------+--------+--------+\n\n"
     ]
    }
   ],
   "source": [
    "spark.sql('Select * from ShareMarket limit 5').show()"
   ]
  },
  {
   "cell_type": "code",
   "execution_count": 0,
   "metadata": {
    "application/vnd.databricks.v1+cell": {
     "cellMetadata": {
      "byteLimit": 2048000,
      "rowLimit": 10000
     },
     "inputWidgets": {},
     "nuid": "c9c5f0ce-bb28-47eb-bec0-2983889e977e",
     "showTitle": false,
     "title": ""
    }
   },
   "outputs": [
    {
     "output_type": "stream",
     "name": "stdout",
     "output_type": "stream",
     "text": [
      "+-----------+\n|Total_Count|\n+-----------+\n|         53|\n+-----------+\n\n"
     ]
    }
   ],
   "source": [
    "# 1.Query to display the number of series present in the data.\n",
    "\n",
    "result1 = spark.sql('Select count(distinct series) as Total_Count from ShareMarket')\n",
    "result1.show()\n",
    "result1.coalesce(1).write.format(\"csv\").option(\"header\", \"true\").mode(\"append\").save(\"/FileStore/tables/output1.txt\")"
   ]
  },
  {
   "cell_type": "code",
   "execution_count": 0,
   "metadata": {
    "application/vnd.databricks.v1+cell": {
     "cellMetadata": {
      "byteLimit": 2048000,
      "rowLimit": 10000
     },
     "inputWidgets": {},
     "nuid": "776014c2-9bbb-4c62-ae02-222cfae052a1",
     "showTitle": false,
     "title": ""
    }
   },
   "outputs": [
    {
     "output_type": "stream",
     "name": "stdout",
     "output_type": "stream",
     "text": [
      "+------+\n|Series|\n+------+\n|    NA|\n|    N3|\n|    NC|\n|    N7|\n|    N8|\n|    N2|\n|    N5|\n|    N4|\n|    N6|\n|    N1|\n|    N9|\n|    NB|\n|    NS|\n|    NL|\n|    NK|\n|    NJ|\n|    NX|\n|    NW|\n|    NP|\n|    NH|\n+------+\nonly showing top 20 rows\n\n"
     ]
    }
   ],
   "source": [
    "# 2.Display the series present in the data.(using hive)\n",
    "\n",
    "result2 = spark.sql('Select Distinct(Series) from ShareMarket')\n",
    "result2.show()\n",
    "result2.coalesce(1).write.format(\"csv\").option(\"header\", \"true\").mode(\"append\").save(\"/FileStore/tables/output2.txt\")"
   ]
  },
  {
   "cell_type": "code",
   "execution_count": 0,
   "metadata": {
    "application/vnd.databricks.v1+cell": {
     "cellMetadata": {
      "byteLimit": 2048000,
      "rowLimit": 10000
     },
     "inputWidgets": {},
     "nuid": "c29b3a5d-1f82-4e79-8464-745a2804943c",
     "showTitle": false,
     "title": ""
    }
   },
   "outputs": [
    {
     "output_type": "stream",
     "name": "stdout",
     "output_type": "stream",
     "text": [
      "+------+------------------+------------------+------------------+------------------+-----------------+\n|series|   sum(prev_cl_pr)|   sum(open_price)|   sum(high_price)|    sum(low_price)| sum(close_price)|\n+------+------------------+------------------+------------------+------------------+-----------------+\n|    NA|          19861.54|           19748.0|20098.340000000004|           19723.0|         20059.57|\n|    N3|           2092.27|           2086.24|2088.6000000000004|            2085.9|          2087.38|\n|    NC|          14393.07|          14319.21|           14391.7|           14318.5|          14382.9|\n|    N7|           3218.36|           3232.41|           3290.55|           3232.41|          3290.53|\n|    N8|            8170.6|           8148.98|           8175.86|           8127.61|8130.780000000001|\n|    N2|10527.279999999999|          10518.07|           10528.4|10491.460000000001|         10510.92|\n|    N5|           8853.06|           8720.56|            8850.5|           8690.01|           8831.0|\n|    N4|          11930.56|11936.259999999998|11970.689999999999|          11916.05|         11927.66|\n|    N6|          26476.23|           26406.1|          26432.09|26300.449999999997|         26325.17|\n|    N1|           5460.91|            5407.1|            5415.0| 5398.639999999999|          5409.98|\n|    N9|            8248.8|            8092.5|            8108.0|            8092.5|           8108.0|\n|    NB|           7173.01|           7156.07|           7168.02|           7153.06|          7165.02|\n|    YH|            1021.0|            1021.0|           1028.01|            1021.0|          1028.01|\n|    NS|            1025.6|            1025.0|            1040.0|            1025.0|           1039.0|\n|    NL|           3395.97|           3430.58|            3431.5|            3368.1|           3380.9|\n|    NK|           1940.51|            1927.0|           1976.75|           1912.01|          1915.72|\n|    Z4|           1020.65|            1040.0|            1040.0|            1022.1|           1022.1|\n|    NJ|           4296.79|            4285.7|           4296.99|            4281.0|          4291.49|\n|    NX|             349.6|            349.35|            349.35|            282.11|           295.07|\n|    YS|            1140.0|            1130.0|            1135.0|            1130.0|           1135.0|\n+------+------------------+------------------+------------------+------------------+-----------------+\nonly showing top 20 rows\n\n"
     ]
    }
   ],
   "source": [
    "# 3.Find the sumpof all the prices in the each series.(Using hive)\n",
    "\n",
    "result3 = spark.sql('Select series, sum(prev_cl_pr), sum(open_price), sum(high_price), sum(low_price), sum(close_price) from ShareMarket GROUP BY series')\n",
    "result3.show()\n",
    "result3.coalesce(1).write.format(\"csv\").option(\"header\", \"true\").mode(\"append\").save(\"/FileStore/tables/output3.txt\")"
   ]
  },
  {
   "cell_type": "code",
   "execution_count": 0,
   "metadata": {
    "application/vnd.databricks.v1+cell": {
     "cellMetadata": {
      "byteLimit": 2048000,
      "rowLimit": 10000
     },
     "inputWidgets": {},
     "nuid": "18af7b49-ce23-4a9a-8c8c-f564c33198f7",
     "showTitle": false,
     "title": ""
    }
   },
   "outputs": [
    {
     "output_type": "stream",
     "name": "stdout",
     "output_type": "stream",
     "text": [
      "+------+-------------------------+----------+\n|series|security                 |net_trdval|\n+------+-------------------------+----------+\n|N4    |SEC RED NCD 9.75 % SR.III|972888.7  |\n+------+-------------------------+----------+\n\n"
     ]
    }
   ],
   "source": [
    "# 4.Display security,series with highest net trade value(use pyspark)\n",
    "\n",
    "result4 = spark.sql('Select series, security, net_trdval from ShareMarket where net_trdval = (Select Max(net_trdval) from ShareMarket)')\n",
    "result4.show(truncate=False)\n",
    "result4.coalesce(1).write.format(\"csv\").option(\"header\", \"true\").mode(\"append\").save(\"/FileStore/tables/output4.txt\")"
   ]
  },
  {
   "cell_type": "code",
   "execution_count": 0,
   "metadata": {
    "application/vnd.databricks.v1+cell": {
     "cellMetadata": {
      "byteLimit": 2048000,
      "rowLimit": 10000
     },
     "inputWidgets": {},
     "nuid": "49be1193-ae2e-461c-bbea-90ad4958c2c4",
     "showTitle": false,
     "title": ""
    }
   },
   "outputs": [
    {
     "output_type": "stream",
     "name": "stdout",
     "output_type": "stream",
     "text": [
      "+------+-----------+----------+\n|SERIES|Total_price|NET_TRDVAL|\n+------+-----------+----------+\n|    N2|     6103.0|      3666|\n|    N2|     5683.0|      4548|\n|    N4|     5109.0|   2044.02|\n|    N4|     5159.0|    4124.2|\n|    N5|     4825.0|    1912.4|\n|    N6|     6700.0|      1341|\n|    N9|    26340.0|     21060|\n|    NB|     4609.0|      1843|\n|    Y7|     1555.0|      1500|\n+------+-----------+----------+\n\n"
     ]
    }
   ],
   "source": [
    "# 5.Display the series whose sum of all prices greater than the net trade value.(Using pyspark)\n",
    "\n",
    "result5 = spark.sql(\"select SERIES, round(PREV_CL_PR + OPEN_PRICE + HIGH_PRICE + LOW_PRICE + CLOSE_PRICE) as Total_price, NET_TRDVAL from ShareMarket where (PREV_CL_PR + OPEN_PRICE + HIGH_PRICE + LOW_PRICE + CLOSE_PRICE) > NET_TRDVAL \")\n",
    "result5.show()\n",
    "result5.coalesce(1).write.format(\"csv\").option(\"header\", \"true\").mode(\"append\").save(\"/FileStore/tables/output5.txt\")"
   ]
  },
  {
   "cell_type": "code",
   "execution_count": 0,
   "metadata": {
    "application/vnd.databricks.v1+cell": {
     "cellMetadata": {
      "byteLimit": 2048000,
      "rowLimit": 10000
     },
     "inputWidgets": {},
     "nuid": "09bcf82c-199c-4714-baa9-66dfdb4ce561",
     "showTitle": false,
     "title": ""
    }
   },
   "outputs": [
    {
     "output_type": "stream",
     "name": "stdout",
     "output_type": "stream",
     "text": [
      "+------+----------+\n|series|net_trdqty|\n+------+----------+\n|    NH|       989|\n+------+----------+\n\n"
     ]
    }
   ],
   "source": [
    "# 6.Display the series with highest net trade quantity.(Using pyspark)\n",
    "result6 = spark.sql('SELECT series, net_trdqty from ShareMarket Where net_trdqty = (Select max(net_trdqty) from ShareMarket)')\n",
    "result6.show()\n",
    "result6.coalesce(1).write.format(\"csv\").option(\"header\", \"true\").mode(\"append\").save(\"/FileStore/tables/output6.txt\")"
   ]
  },
  {
   "cell_type": "code",
   "execution_count": 0,
   "metadata": {
    "application/vnd.databricks.v1+cell": {
     "cellMetadata": {
      "byteLimit": 2048000,
      "rowLimit": 10000
     },
     "inputWidgets": {},
     "nuid": "929b9e5d-39f2-480c-9369-6a7194b30642",
     "showTitle": false,
     "title": ""
    }
   },
   "outputs": [
    {
     "output_type": "stream",
     "name": "stdout",
     "output_type": "stream",
     "text": [
      "+---------------+---------------+\n|max(open_price)|min(open_price)|\n+---------------+---------------+\n|         998.99|           1000|\n+---------------+---------------+\n\n"
     ]
    }
   ],
   "source": [
    "# 7. Display the highest and lowest open price(Using sql)\n",
    "result7 = spark.sql('Select max(open_price), min(open_price) from ShareMarket')\n",
    "result7.show()\n",
    "result7.coalesce(1).write.format(\"csv\").option(\"header\", \"true\").mode(\"append\").save(\"/FileStore/tables/output7.txt\")"
   ]
  },
  {
   "cell_type": "code",
   "execution_count": 0,
   "metadata": {
    "application/vnd.databricks.v1+cell": {
     "cellMetadata": {
      "byteLimit": 2048000,
      "rowLimit": 10000
     },
     "inputWidgets": {},
     "nuid": "ccca56a9-41ab-4be8-a9c1-9ea73443d75e",
     "showTitle": false,
     "title": ""
    }
   },
   "outputs": [
    {
     "output_type": "stream",
     "name": "stdout",
     "output_type": "stream",
     "text": [
      "+------+------+\n|series|trades|\n+------+------+\n|    N2|   107|\n|    N3|   787|\n|    N7|   106|\n+------+------+\n\n"
     ]
    }
   ],
   "source": [
    "# 8.Query to display the series which have trades more than 80.(Using SQL).\n",
    "result8 = spark.sql('Select series,trades from ShareMarket where trades > 80')\n",
    "result8.show()\n",
    "result8.coalesce(1).write.format(\"csv\").option(\"header\", \"true\").mode(\"append\").save(\"/FileStore/tables/output8.txt\")"
   ]
  },
  {
   "cell_type": "code",
   "execution_count": 0,
   "metadata": {
    "application/vnd.databricks.v1+cell": {
     "cellMetadata": {
      "byteLimit": 2048000,
      "rowLimit": 10000
     },
     "inputWidgets": {},
     "nuid": "7e370ce6-96ed-4068-adf1-aaba1741e758",
     "showTitle": false,
     "title": ""
    }
   },
   "outputs": [
    {
     "output_type": "stream",
     "name": "stdout",
     "output_type": "stream",
     "text": [
      "+------+--------------------+\n|series|diff_net_trd_and_qty|\n+------+--------------------+\n|    NA|           3331954.0|\n|    N3|           5894946.0|\n|    NC|           2505038.0|\n|    N7|           2218463.0|\n|    N8|           3982021.0|\n|    N2|           3674572.0|\n|    N5|           5581855.0|\n|    N4|           3474030.0|\n|    N6|         1.6785783E7|\n|    N1|           7499601.0|\n|    N9|            455371.0|\n|    NB|           2430892.0|\n|    YH|             61270.0|\n|    NS|            354014.0|\n|    NL|           1581526.0|\n|    NK|           1010122.0|\n|    Z4|             36957.0|\n|    NJ|           7421504.0|\n|    NX|             12729.0|\n|    YS|             79055.0|\n+------+--------------------+\nonly showing top 20 rows\n\n"
     ]
    }
   ],
   "source": [
    "# 9.Display the difference between the net trade value net trade quantity for each series.(Using sql).\n",
    "result9 = spark.sql('Select series, sum(round(net_trdval - net_trdqty)) as diff_net_trd_and_qty from ShareMarket Group By Series')\n",
    "result9.show()\n",
    "result9.coalesce(1).write.format(\"csv\").option(\"header\", \"true\").mode(\"append\").save(\"/FileStore/tables/output9.txt\")"
   ]
  },
  {
   "cell_type": "code",
   "execution_count": 0,
   "metadata": {
    "application/vnd.databricks.v1+cell": {
     "cellMetadata": {},
     "inputWidgets": {},
     "nuid": "0cefb7f9-9213-4546-a6f9-373ad1c37eb4",
     "showTitle": false,
     "title": ""
    }
   },
   "outputs": [],
   "source": []
  }
 ],
 "metadata": {
  "application/vnd.databricks.v1+notebook": {
   "dashboards": [],
   "language": "python",
   "notebookMetadata": {
    "pythonIndentUnit": 4
   },
   "notebookName": "ShareMarketCaseStudy",
   "notebookOrigID": 4487481279803046,
   "widgets": {}
  }
 },
 "nbformat": 4,
 "nbformat_minor": 0
}
