{
 "cells": [
  {
   "cell_type": "code",
   "execution_count": 0,
   "metadata": {
    "application/vnd.databricks.v1+cell": {
     "cellMetadata": {
      "byteLimit": 2048000,
      "rowLimit": 10000
     },
     "inputWidgets": {},
     "nuid": "028a5f41-9b4b-4c0b-a7c4-ba28a34f1fa3",
     "showTitle": false,
     "title": ""
    }
   },
   "outputs": [],
   "source": [
    "x = 10"
   ]
  },
  {
   "cell_type": "code",
   "execution_count": 0,
   "metadata": {
    "application/vnd.databricks.v1+cell": {
     "cellMetadata": {
      "byteLimit": 2048000,
      "rowLimit": 10000
     },
     "inputWidgets": {},
     "nuid": "4b3a8111-a63c-47a6-9dec-deee72cb69ef",
     "showTitle": false,
     "title": ""
    }
   },
   "outputs": [
    {
     "output_type": "stream",
     "name": "stdout",
     "output_type": "stream",
     "text": [
      "Out[3]: 10"
     ]
    }
   ],
   "source": [
    "x"
   ]
  },
  {
   "cell_type": "code",
   "execution_count": 0,
   "metadata": {
    "application/vnd.databricks.v1+cell": {
     "cellMetadata": {
      "byteLimit": 2048000,
      "rowLimit": 10000
     },
     "inputWidgets": {},
     "nuid": "8f844dab-9efb-4ad0-8c42-a4d2abf4fcce",
     "showTitle": false,
     "title": ""
    }
   },
   "outputs": [],
   "source": [
    "from pyspark import SparkContext"
   ]
  },
  {
   "cell_type": "code",
   "execution_count": 0,
   "metadata": {
    "application/vnd.databricks.v1+cell": {
     "cellMetadata": {
      "byteLimit": 2048000,
      "rowLimit": 10000
     },
     "inputWidgets": {},
     "nuid": "f0dc08c0-0892-4001-860d-92ead6d4b63b",
     "showTitle": false,
     "title": ""
    }
   },
   "outputs": [],
   "source": [
    "rdd1 = sc.parallelize([0,1,2,3,4,5])"
   ]
  },
  {
   "cell_type": "code",
   "execution_count": 0,
   "metadata": {
    "application/vnd.databricks.v1+cell": {
     "cellMetadata": {
      "byteLimit": 2048000,
      "rowLimit": 10000
     },
     "inputWidgets": {},
     "nuid": "4d98ee59-b8a3-4a26-9172-39754021591c",
     "showTitle": false,
     "title": ""
    }
   },
   "outputs": [
    {
     "output_type": "stream",
     "name": "stdout",
     "output_type": "stream",
     "text": [
      "Out[9]: pyspark.rdd.RDD"
     ]
    }
   ],
   "source": [
    "type(rdd1)"
   ]
  },
  {
   "cell_type": "code",
   "execution_count": 0,
   "metadata": {
    "application/vnd.databricks.v1+cell": {
     "cellMetadata": {
      "byteLimit": 2048000,
      "rowLimit": 10000
     },
     "inputWidgets": {},
     "nuid": "920ecde9-3b03-466d-90c8-06568d3802fe",
     "showTitle": false,
     "title": ""
    }
   },
   "outputs": [],
   "source": [
    "sales_rdd = sc.textFile('/FileStore/tables/5000_Sales_Records.csv')"
   ]
  },
  {
   "cell_type": "code",
   "execution_count": 0,
   "metadata": {
    "application/vnd.databricks.v1+cell": {
     "cellMetadata": {
      "byteLimit": 2048000,
      "rowLimit": 10000
     },
     "inputWidgets": {},
     "nuid": "813cb716-0de5-434e-ad07-7ccf5bdeb2de",
     "showTitle": false,
     "title": ""
    }
   },
   "outputs": [
    {
     "output_type": "stream",
     "name": "stdout",
     "output_type": "stream",
     "text": [
      "Out[12]: pyspark.rdd.RDD"
     ]
    }
   ],
   "source": [
    "type(sales_rdd)"
   ]
  },
  {
   "cell_type": "code",
   "execution_count": 0,
   "metadata": {
    "application/vnd.databricks.v1+cell": {
     "cellMetadata": {
      "byteLimit": 2048000,
      "rowLimit": 10000
     },
     "inputWidgets": {},
     "nuid": "6fbd1b8d-5e88-464a-8629-fc9dc314a37d",
     "showTitle": false,
     "title": ""
    }
   },
   "outputs": [
    {
     "output_type": "stream",
     "name": "stdout",
     "output_type": "stream",
     "text": [
      "Out[13]: ['Region,Country,Item Type,Sales Channel,Order Priority,Order Date,Order ID,Ship Date,Units Sold,Unit Price,Unit Cost,Total Revenue,Total Cost,Total Profit',\n 'Central America and the Caribbean,Antigua and Barbuda ,Baby Food,Online,M,12/20/2013,957081544,1/11/2014,552,255.28,159.42,140914.56,87999.84,52914.72',\n 'Central America and the Caribbean,Panama,Snacks,Offline,C,7/5/2010,301644504,7/26/2010,2167,152.58,97.44,330640.86,211152.48,119488.38',\n 'Europe,Czech Republic,Beverages,Offline,C,9/12/2011,478051030,9/29/2011,4778,47.45,31.79,226716.10,151892.62,74823.48',\n 'Asia,North Korea,Cereal,Offline,L,5/13/2010,892599952,6/15/2010,9016,205.70,117.11,1854591.20,1055863.76,798727.44']"
     ]
    }
   ],
   "source": [
    "sales_rdd.take(5)"
   ]
  },
  {
   "cell_type": "code",
   "execution_count": 0,
   "metadata": {
    "application/vnd.databricks.v1+cell": {
     "cellMetadata": {
      "byteLimit": 2048000,
      "rowLimit": 10000
     },
     "inputWidgets": {},
     "nuid": "aa4efd6f-15b6-4dfe-93a9-bcf23d564dad",
     "showTitle": false,
     "title": ""
    }
   },
   "outputs": [],
   "source": [
    "header = sales_rdd.first()\n",
    "sales_rdd = sales_rdd.filter(lambda x : x != header)\n",
    "sales_rdd = sales_rdd.map(lambda line: line.split(\",\"))"
   ]
  },
  {
   "cell_type": "code",
   "execution_count": 0,
   "metadata": {
    "application/vnd.databricks.v1+cell": {
     "cellMetadata": {
      "byteLimit": 2048000,
      "rowLimit": 10000
     },
     "inputWidgets": {},
     "nuid": "2d2e7b63-bc01-4490-a5e8-11926a1f5766",
     "showTitle": false,
     "title": ""
    }
   },
   "outputs": [],
   "source": [
    "# # 1. Display the number of countries present in the data(Using Pyspark)\n",
    "countries = sales_rdd.map(lambda x : x[1]).distinct()"
   ]
  },
  {
   "cell_type": "code",
   "execution_count": 0,
   "metadata": {
    "application/vnd.databricks.v1+cell": {
     "cellMetadata": {
      "byteLimit": 2048000,
      "rowLimit": 10000
     },
     "inputWidgets": {},
     "nuid": "b246abda-0362-4617-9f0e-18791eff42dd",
     "showTitle": false,
     "title": ""
    }
   },
   "outputs": [
    {
     "output_type": "stream",
     "name": "stdout",
     "output_type": "stream",
     "text": [
      "Out[18]: ['Antigua and Barbuda ',\n 'North Korea',\n 'Federated States of Micronesia',\n 'Ethiopia',\n 'Saint Lucia',\n 'Lebanon',\n 'Austria',\n 'Mexico',\n 'Trinidad and Tobago',\n 'Libya',\n 'Algeria',\n 'Estonia',\n 'Saudi Arabia',\n 'Montenegro',\n 'Guatemala',\n 'Australia',\n 'Malawi',\n 'Somalia',\n 'Switzerland',\n 'Laos',\n 'Angola',\n 'Mauritania',\n 'Finland',\n 'Belgium',\n 'Kiribati',\n 'Uzbekistan',\n 'South Korea',\n 'Nigeria',\n 'South Africa',\n 'Netherlands',\n 'Solomon Islands',\n 'Iran',\n 'Equatorial Guinea',\n 'Iraq',\n 'Mauritius ',\n 'Eritrea',\n 'Ukraine',\n 'Myanmar',\n 'Latvia',\n 'Portugal',\n 'Barbados',\n 'Poland',\n 'Zambia',\n 'Slovenia',\n 'Bhutan',\n 'Cyprus',\n 'Monaco',\n 'Gabon',\n 'Norway',\n 'Thailand',\n 'Tanzania',\n 'Denmark',\n 'China',\n 'United States of America',\n 'Philippines',\n 'Kuwait',\n 'Turkmenistan',\n 'Kosovo',\n 'Hungary',\n 'Pakistan',\n 'Mozambique',\n 'Kazakhstan',\n 'East Timor',\n 'Liberia',\n 'Albania',\n 'Moldova ',\n 'India',\n 'Republic of the Congo',\n 'France',\n \"Cote d'Ivoire\",\n 'Costa Rica',\n 'Honduras',\n 'Macedonia',\n 'Greece',\n 'Cambodia',\n 'Botswana',\n 'Vietnam',\n 'Togo',\n 'Kenya',\n 'Andorra',\n 'Iceland',\n 'Marshall Islands',\n 'Slovakia',\n 'Ghana',\n 'Bahrain',\n 'Nepal',\n 'Maldives',\n 'Guinea-Bissau',\n 'Ireland',\n 'El Salvador',\n 'Palau',\n 'Fiji',\n 'Belize',\n 'Cape Verde',\n 'Panama',\n 'Czech Republic',\n 'Sri Lanka',\n 'Morocco',\n 'Bosnia and Herzegovina',\n 'Afghanistan',\n 'Turkey',\n 'Oman',\n 'Malaysia',\n 'Saint Vincent and the Grenadines',\n 'Bulgaria',\n 'Tuvalu',\n 'Cuba',\n 'Guinea',\n 'Vanuatu',\n 'United Arab Emirates',\n 'Luxembourg',\n 'Benin',\n 'Kyrgyzstan',\n 'Taiwan',\n 'San Marino',\n 'Samoa ',\n 'Central African Republic',\n 'Dominica',\n 'Qatar',\n 'Sudan',\n 'Russia',\n 'Azerbaijan',\n 'Serbia',\n 'Mongolia',\n 'Grenada',\n 'Namibia',\n 'Senegal',\n 'Burundi',\n 'Haiti',\n 'Liechtenstein',\n 'United Kingdom',\n 'Malta',\n 'Singapore',\n 'Cameroon',\n 'Djibouti',\n 'Uganda',\n 'The Gambia',\n 'Armenia',\n 'Jordan',\n 'Tonga',\n 'Mali',\n 'Swaziland',\n 'Seychelles ',\n 'Madagascar',\n 'South Sudan',\n 'Nicaragua',\n 'Chad',\n 'Lithuania',\n 'Saint Kitts and Nevis ',\n 'Jamaica',\n 'Japan',\n 'The Bahamas',\n 'Egypt',\n 'Democratic Republic of the Congo',\n 'Comoros',\n 'Rwanda',\n 'Spain',\n 'Israel',\n 'Sweden',\n 'Indonesia',\n 'Yemen',\n 'Italy',\n 'New Zealand',\n 'Tajikistan',\n 'Dominican Republic',\n 'Germany',\n 'Tunisia ',\n 'Sao Tome and Principe',\n 'Brunei',\n 'Nauru',\n 'Croatia',\n 'Papua New Guinea',\n 'Niger',\n 'Vatican City',\n 'Belarus',\n 'Bangladesh',\n 'Greenland',\n 'Sierra Leone',\n 'Lesotho',\n 'Zimbabwe',\n 'Romania',\n 'Georgia',\n 'Canada',\n 'Burkina Faso',\n 'Syria']"
     ]
    }
   ],
   "source": [
    "countries.collect()"
   ]
  },
  {
   "cell_type": "code",
   "execution_count": 0,
   "metadata": {
    "application/vnd.databricks.v1+cell": {
     "cellMetadata": {
      "byteLimit": 2048000,
      "rowLimit": 10000
     },
     "inputWidgets": {},
     "nuid": "9e86593b-39d2-4935-b589-62447f1a81a2",
     "showTitle": false,
     "title": ""
    }
   },
   "outputs": [],
   "source": [
    "countries.coalesce(1).saveAsTextFile('/FileStore/tables/country_orders')"
   ]
  },
  {
   "cell_type": "code",
   "execution_count": 0,
   "metadata": {
    "application/vnd.databricks.v1+cell": {
     "cellMetadata": {
      "byteLimit": 2048000,
      "rowLimit": 10000
     },
     "inputWidgets": {},
     "nuid": "714881fd-453d-43c6-a578-3eea530c10ba",
     "showTitle": false,
     "title": ""
    }
   },
   "outputs": [
    {
     "output_type": "stream",
     "name": "stdout",
     "output_type": "stream",
     "text": [
      "Out[20]: [('Asia', 3620036),\n ('Middle East and North Africa', 3013431),\n ('Australia and Oceania', 2111786),\n ('Central America and the Caribbean', 2698776),\n ('Europe', 6582322),\n ('Sub-Saharan Africa', 6642380),\n ('North America', 484760)]"
     ]
    }
   ],
   "source": [
    "# 2.Display the number of units sold in each region.(Using Pyspark)\n",
    "\n",
    "rdd_region_units = sales_rdd.map(lambda x : (x[0],int(x[8])))\n",
    "rdd_region_units = rdd_region_units.reduceByKey(lambda a,b : a+b)\n",
    "rdd_region_units.collect()"
   ]
  },
  {
   "cell_type": "code",
   "execution_count": 0,
   "metadata": {
    "application/vnd.databricks.v1+cell": {
     "cellMetadata": {
      "byteLimit": 2048000,
      "rowLimit": 10000
     },
     "inputWidgets": {},
     "nuid": "08d83b60-07b6-4615-84dd-d36a03d14eaf",
     "showTitle": false,
     "title": ""
    }
   },
   "outputs": [],
   "source": [
    "rdd_region_units.coalesce(1).saveAsTextFile('/FileStore/tables/region_wise_count_units')"
   ]
  },
  {
   "cell_type": "code",
   "execution_count": 0,
   "metadata": {
    "application/vnd.databricks.v1+cell": {
     "cellMetadata": {
      "byteLimit": 2048000,
      "rowLimit": 10000
     },
     "inputWidgets": {},
     "nuid": "df3a94b8-dcec-4a87-a20b-cce68be6abb2",
     "showTitle": false,
     "title": ""
    }
   },
   "outputs": [
    {
     "output_type": "stream",
     "name": "stdout",
     "output_type": "stream",
     "text": [
      "Out[26]: [('Asia',\n  'Bhutan',\n  'Cereal',\n  'Offline',\n  'M',\n  datetime.date(2017, 7, 28),\n  Ellipsis),\n ('Sub-Saharan Africa',\n  'Senegal',\n  'Cosmetics',\n  'Online',\n  'C',\n  datetime.date(2017, 7, 26),\n  Ellipsis),\n ('Middle East and North Africa',\n  'United Arab Emirates',\n  'Household',\n  'Online',\n  'C',\n  datetime.date(2017, 7, 26),\n  Ellipsis),\n ('Australia and Oceania',\n  'Australia',\n  'Beverages',\n  'Online',\n  'L',\n  datetime.date(2017, 7, 26),\n  Ellipsis),\n ('Sub-Saharan Africa',\n  \"Cote d'Ivoire\",\n  'Vegetables',\n  'Online',\n  'H',\n  datetime.date(2017, 7, 24),\n  Ellipsis),\n ('Sub-Saharan Africa',\n  'Chad',\n  'Household',\n  'Online',\n  'L',\n  datetime.date(2017, 7, 24),\n  Ellipsis),\n ('Australia and Oceania',\n  'Vanuatu',\n  'Office Supplies',\n  'Online',\n  'C',\n  datetime.date(2017, 7, 24),\n  Ellipsis),\n ('Europe',\n  'Kosovo',\n  'Vegetables',\n  'Offline',\n  'C',\n  datetime.date(2017, 7, 23),\n  Ellipsis),\n ('Europe',\n  'San Marino',\n  'Snacks',\n  'Offline',\n  'C',\n  datetime.date(2017, 7, 22),\n  Ellipsis),\n ('Australia and Oceania',\n  'Palau',\n  'Baby Food',\n  'Offline',\n  'H',\n  datetime.date(2017, 7, 21),\n  Ellipsis)]"
     ]
    }
   ],
   "source": [
    "# 3.Display the 10 most recent sales. (Using Pyspark) '12/20/2013'\n",
    "from datetime import datetime\n",
    "\n",
    "# Define a function to convert the date column to datetime\n",
    "def convert_date(date_str):\n",
    "    return datetime.strptime(date_str, '%m/%d/%Y').date()\n",
    "\n",
    "date_format_rdd = sales_rdd.map(lambda x: (x[0],x[1],x[2],x[3],x[4],convert_date(x[5]), ...))\n",
    "date_format_sorted_rdd = date_format_rdd.sortBy(lambda x : x[5], ascending=False)\n",
    "date_format_sorted_rdd.take(10)"
   ]
  },
  {
   "cell_type": "code",
   "execution_count": 0,
   "metadata": {
    "application/vnd.databricks.v1+cell": {
     "cellMetadata": {
      "byteLimit": 2048000,
      "rowLimit": 10000
     },
     "inputWidgets": {},
     "nuid": "02c9e600-fcf9-48b9-99c9-747050509041",
     "showTitle": false,
     "title": ""
    }
   },
   "outputs": [],
   "source": [
    "date_format_sorted_rdd.coalesce(1).saveAsTextFile('/FileStore/tables/recent_sales')"
   ]
  },
  {
   "cell_type": "code",
   "execution_count": 0,
   "metadata": {
    "application/vnd.databricks.v1+cell": {
     "cellMetadata": {
      "byteLimit": 2048000,
      "rowLimit": 10000
     },
     "inputWidgets": {},
     "nuid": "50fe2494-109c-46de-af9e-75b8f56d49ff",
     "showTitle": false,
     "title": ""
    }
   },
   "outputs": [
    {
     "output_type": "stream",
     "name": "stdout",
     "output_type": "stream",
     "text": [
      "Out[29]: [['Middle East and North Africa',\n  'Morocco',\n  'Personal Care',\n  'Offline',\n  'L',\n  '11/8/2010',\n  '412882792',\n  '11/22/2010',\n  '48',\n  '81.73',\n  '56.67',\n  '3923.04',\n  '2720.16',\n  '1202.88'],\n ['Sub-Saharan Africa',\n  'Benin',\n  'Personal Care',\n  'Online',\n  'L',\n  '8/7/2016',\n  '440603101',\n  '9/15/2016',\n  '3104',\n  '81.73',\n  '56.67',\n  '253689.92',\n  '175903.68',\n  '77786.24'],\n ['Middle East and North Africa',\n  'Saudi Arabia',\n  'Personal Care',\n  'Offline',\n  'L',\n  '2/2/2014',\n  '688270556',\n  '3/4/2014',\n  '3407',\n  '81.73',\n  '56.67',\n  '278454.11',\n  '193074.69',\n  '85379.42'],\n ['Sub-Saharan Africa',\n  'Central African Republic',\n  'Personal Care',\n  'Offline',\n  'H',\n  '12/16/2014',\n  '863838946',\n  '1/5/2015',\n  '7995',\n  '81.73',\n  '56.67',\n  '653431.35',\n  '453076.65',\n  '200354.70'],\n ['Australia and Oceania',\n  'Tuvalu',\n  'Personal Care',\n  'Offline',\n  'M',\n  '12/21/2016',\n  '963251912',\n  '2/1/2017',\n  '6501',\n  '81.73',\n  '56.67',\n  '531326.73',\n  '368411.67',\n  '162915.06'],\n ['Europe',\n  'Ukraine',\n  'Personal Care',\n  'Online',\n  'M',\n  '7/16/2010',\n  '987459170',\n  '8/27/2010',\n  '9967',\n  '81.73',\n  '56.67',\n  '814602.91',\n  '564829.89',\n  '249773.02'],\n ['Asia',\n  'Singapore',\n  'Personal Care',\n  'Offline',\n  'M',\n  '1/22/2011',\n  '276829564',\n  '2/13/2011',\n  '8875',\n  '81.73',\n  '56.67',\n  '725353.75',\n  '502946.25',\n  '222407.50'],\n ['Europe',\n  'Monaco',\n  'Personal Care',\n  'Online',\n  'L',\n  '6/8/2014',\n  '263098371',\n  '7/4/2014',\n  '5509',\n  '81.73',\n  '56.67',\n  '450250.57',\n  '312195.03',\n  '138055.54'],\n ['Sub-Saharan Africa',\n  'Ethiopia',\n  'Personal Care',\n  'Online',\n  'L',\n  '5/27/2016',\n  '272419154',\n  '6/27/2016',\n  '3736',\n  '81.73',\n  '56.67',\n  '305343.28',\n  '211719.12',\n  '93624.16'],\n ['Asia',\n  'Singapore',\n  'Personal Care',\n  'Offline',\n  'M',\n  '3/29/2013',\n  '114242208',\n  '5/15/2013',\n  '5663',\n  '81.73',\n  '56.67',\n  '462836.99',\n  '320922.21',\n  '141914.78'],\n ['Australia and Oceania',\n  'Samoa ',\n  'Personal Care',\n  'Offline',\n  'L',\n  '2/17/2015',\n  '765528905',\n  '3/6/2015',\n  '5870',\n  '81.73',\n  '56.67',\n  '479755.10',\n  '332652.90',\n  '147102.20'],\n ['Australia and Oceania',\n  'Vanuatu',\n  'Personal Care',\n  'Online',\n  'H',\n  '12/18/2010',\n  '741250836',\n  '1/10/2011',\n  '1450',\n  '81.73',\n  '56.67',\n  '118508.50',\n  '82171.50',\n  '36337.00'],\n ['Middle East and North Africa',\n  'Turkey',\n  'Personal Care',\n  'Offline',\n  'H',\n  '5/10/2013',\n  '126329314',\n  '5/21/2013',\n  '2506',\n  '81.73',\n  '56.67',\n  '204815.38',\n  '142015.02',\n  '62800.36'],\n ['Asia',\n  'Kazakhstan',\n  'Personal Care',\n  'Offline',\n  'H',\n  '2/1/2016',\n  '624937379',\n  '2/8/2016',\n  '1713',\n  '81.73',\n  '56.67',\n  '140003.49',\n  '97075.71',\n  '42927.78'],\n ['Middle East and North Africa',\n  'Libya',\n  'Personal Care',\n  'Offline',\n  'H',\n  '7/2/2014',\n  '653020751',\n  '7/19/2014',\n  '2207',\n  '81.73',\n  '56.67',\n  '180378.11',\n  '125070.69',\n  '55307.42'],\n ['Europe',\n  'Moldova ',\n  'Personal Care',\n  'Online',\n  'M',\n  '3/11/2013',\n  '467045819',\n  '4/12/2013',\n  '8092',\n  '81.73',\n  '56.67',\n  '661359.16',\n  '458573.64',\n  '202785.52'],\n ['Asia',\n  'Taiwan',\n  'Personal Care',\n  'Offline',\n  'C',\n  '10/16/2014',\n  '741311347',\n  '11/5/2014',\n  '9356',\n  '81.73',\n  '56.67',\n  '764665.88',\n  '530204.52',\n  '234461.36'],\n ['Middle East and North Africa',\n  'Israel',\n  'Personal Care',\n  'Offline',\n  'M',\n  '11/14/2011',\n  '386116921',\n  '12/22/2011',\n  '9432',\n  '81.73',\n  '56.67',\n  '770877.36',\n  '534511.44',\n  '236365.92'],\n ['Europe',\n  'Norway',\n  'Personal Care',\n  'Offline',\n  'M',\n  '6/8/2012',\n  '594813811',\n  '6/17/2012',\n  '7480',\n  '81.73',\n  '56.67',\n  '611340.40',\n  '423891.60',\n  '187448.80'],\n ['Europe',\n  'Malta',\n  'Personal Care',\n  'Offline',\n  'M',\n  '8/16/2011',\n  '466988742',\n  '8/16/2011',\n  '1201',\n  '81.73',\n  '56.67',\n  '98157.73',\n  '68060.67',\n  '30097.06'],\n ['Sub-Saharan Africa',\n  'Eritrea',\n  'Personal Care',\n  'Offline',\n  'L',\n  '5/14/2012',\n  '801598393',\n  '6/2/2012',\n  '9633',\n  '81.73',\n  '56.67',\n  '787305.09',\n  '545902.11',\n  '241402.98'],\n ['Middle East and North Africa',\n  'Lebanon',\n  'Personal Care',\n  'Offline',\n  'H',\n  '8/22/2014',\n  '796328389',\n  '9/27/2014',\n  '121',\n  '81.73',\n  '56.67',\n  '9889.33',\n  '6857.07',\n  '3032.26'],\n ['Europe',\n  'Greece',\n  'Personal Care',\n  'Offline',\n  'M',\n  '12/8/2011',\n  '701298367',\n  '1/6/2012',\n  '8626',\n  '81.73',\n  '56.67',\n  '705002.98',\n  '488835.42',\n  '216167.56'],\n ['Europe',\n  'Italy',\n  'Personal Care',\n  'Online',\n  'C',\n  '2/25/2011',\n  '309342658',\n  '3/28/2011',\n  '222',\n  '81.73',\n  '56.67',\n  '18144.06',\n  '12580.74',\n  '5563.32'],\n ['Australia and Oceania',\n  'New Zealand',\n  'Personal Care',\n  'Online',\n  'L',\n  '1/8/2016',\n  '976874530',\n  '1/27/2016',\n  '7737',\n  '81.73',\n  '56.67',\n  '632345.01',\n  '438455.79',\n  '193889.22'],\n ['Sub-Saharan Africa',\n  'South Africa',\n  'Personal Care',\n  'Online',\n  'H',\n  '2/21/2010',\n  '686946189',\n  '3/8/2010',\n  '1498',\n  '81.73',\n  '56.67',\n  '122431.54',\n  '84891.66',\n  '37539.88'],\n ['Sub-Saharan Africa',\n  'Republic of the Congo',\n  'Personal Care',\n  'Offline',\n  'C',\n  '3/10/2014',\n  '522813022',\n  '4/8/2014',\n  '846',\n  '81.73',\n  '56.67',\n  '69143.58',\n  '47942.82',\n  '21200.76'],\n ['Europe',\n  'Russia',\n  'Personal Care',\n  'Online',\n  'L',\n  '4/24/2015',\n  '602357041',\n  '5/5/2015',\n  '9689',\n  '81.73',\n  '56.67',\n  '791881.97',\n  '549075.63',\n  '242806.34'],\n ['Europe',\n  'Macedonia',\n  'Personal Care',\n  'Online',\n  'L',\n  '7/19/2014',\n  '456192958',\n  '8/18/2014',\n  '6489',\n  '81.73',\n  '56.67',\n  '530345.97',\n  '367731.63',\n  '162614.34'],\n ['Middle East and North Africa',\n  'Kuwait',\n  'Personal Care',\n  'Offline',\n  'L',\n  '9/29/2012',\n  '877022111',\n  '10/21/2012',\n  '9187',\n  '81.73',\n  '56.67',\n  '750853.51',\n  '520627.29',\n  '230226.22'],\n ['Europe',\n  'Czech Republic',\n  'Personal Care',\n  'Online',\n  'M',\n  '12/4/2010',\n  '353415429',\n  '12/8/2010',\n  '2334',\n  '81.73',\n  '56.67',\n  '190757.82',\n  '132267.78',\n  '58490.04'],\n ['Europe',\n  'Poland',\n  'Personal Care',\n  'Offline',\n  'C',\n  '4/5/2014',\n  '386440074',\n  '4/25/2014',\n  '5060',\n  '81.73',\n  '56.67',\n  '413553.80',\n  '286750.20',\n  '126803.60'],\n ['Central America and the Caribbean',\n  'Saint Kitts and Nevis ',\n  'Personal Care',\n  'Online',\n  'L',\n  '8/12/2015',\n  '105630385',\n  '9/15/2015',\n  '7233',\n  '81.73',\n  '56.67',\n  '591153.09',\n  '409894.11',\n  '181258.98'],\n ['Sub-Saharan Africa',\n  'Equatorial Guinea',\n  'Personal Care',\n  'Online',\n  'H',\n  '12/19/2014',\n  '871553409',\n  '1/5/2015',\n  '876',\n  '81.73',\n  '56.67',\n  '71595.48',\n  '49642.92',\n  '21952.56'],\n ['Australia and Oceania',\n  'New Zealand',\n  'Personal Care',\n  'Offline',\n  'H',\n  '1/16/2015',\n  '319126927',\n  '2/6/2015',\n  '5604',\n  '81.73',\n  '56.67',\n  '458014.92',\n  '317578.68',\n  '140436.24'],\n ['Europe',\n  'Bosnia and Herzegovina',\n  'Personal Care',\n  'Offline',\n  'L',\n  '2/7/2010',\n  '396718728',\n  '3/18/2010',\n  '6742',\n  '81.73',\n  '56.67',\n  '551023.66',\n  '382069.14',\n  '168954.52'],\n ['Middle East and North Africa',\n  'Jordan',\n  'Personal Care',\n  'Online',\n  'H',\n  '1/8/2015',\n  '437160861',\n  '1/16/2015',\n  '4468',\n  '81.73',\n  '56.67',\n  '365169.64',\n  '253201.56',\n  '111968.08'],\n ['Europe',\n  'Monaco',\n  'Personal Care',\n  'Online',\n  'H',\n  '3/29/2016',\n  '351247346',\n  '5/8/2016',\n  '750',\n  '81.73',\n  '56.67',\n  '61297.50',\n  '42502.50',\n  '18795.00'],\n ['Asia',\n  'Maldives',\n  'Personal Care',\n  'Online',\n  'C',\n  '11/26/2013',\n  '635878217',\n  '12/30/2013',\n  '9350',\n  '81.73',\n  '56.67',\n  '764175.50',\n  '529864.50',\n  '234311.00'],\n ['Sub-Saharan Africa',\n  'Sierra Leone',\n  'Personal Care',\n  'Offline',\n  'L',\n  '12/16/2016',\n  '966360700',\n  '1/27/2017',\n  '6461',\n  '81.73',\n  '56.67',\n  '528057.53',\n  '366144.87',\n  '161912.66'],\n ['Middle East and North Africa',\n  'Iran',\n  'Personal Care',\n  'Online',\n  'L',\n  '2/25/2013',\n  '334958827',\n  '2/28/2013',\n  '615',\n  '81.73',\n  '56.67',\n  '50263.95',\n  '34852.05',\n  '15411.90'],\n ['Middle East and North Africa',\n  'Pakistan',\n  'Personal Care',\n  'Online',\n  'C',\n  '8/3/2016',\n  '285571420',\n  '9/13/2016',\n  '5784',\n  '81.73',\n  '56.67',\n  '472726.32',\n  '327779.28',\n  '144947.04'],\n ['Middle East and North Africa',\n  'Pakistan',\n  'Personal Care',\n  'Offline',\n  'H',\n  '1/25/2016',\n  '761509025',\n  '3/3/2016',\n  '6298',\n  '81.73',\n  '56.67',\n  '514735.54',\n  '356907.66',\n  '157827.88'],\n ['Europe',\n  'Malta',\n  'Personal Care',\n  'Online',\n  'H',\n  '2/19/2014',\n  '445708739',\n  '2/27/2014',\n  '3975',\n  '81.73',\n  '56.67',\n  '324876.75',\n  '225263.25',\n  '99613.50'],\n ['Sub-Saharan Africa',\n  'Equatorial Guinea',\n  'Personal Care',\n  'Online',\n  'L',\n  '11/9/2015',\n  '600763165',\n  '12/8/2015',\n  '8026',\n  '81.73',\n  '56.67',\n  '655964.98',\n  '454833.42',\n  '201131.56'],\n ['Middle East and North Africa',\n  'Somalia',\n  'Personal Care',\n  'Offline',\n  'L',\n  '7/11/2011',\n  '372722613',\n  '8/18/2011',\n  '5759',\n  '81.73',\n  '56.67',\n  '470683.07',\n  '326362.53',\n  '144320.54'],\n ['Europe',\n  'Bulgaria',\n  'Personal Care',\n  'Offline',\n  'H',\n  '10/24/2012',\n  '595496594',\n  '11/4/2012',\n  '9530',\n  '81.73',\n  '56.67',\n  '778886.90',\n  '540065.10',\n  '238821.80'],\n ['Europe',\n  'Ireland',\n  'Personal Care',\n  'Offline',\n  'H',\n  '5/30/2010',\n  '354931628',\n  '6/8/2010',\n  '1011',\n  '81.73',\n  '56.67',\n  '82629.03',\n  '57293.37',\n  '25335.66'],\n ['Asia',\n  'North Korea',\n  'Personal Care',\n  'Online',\n  'M',\n  '1/30/2012',\n  '623768365',\n  '3/16/2012',\n  '5776',\n  '81.73',\n  '56.67',\n  '472072.48',\n  '327325.92',\n  '144746.56'],\n ['Sub-Saharan Africa',\n  'Mali',\n  'Personal Care',\n  'Online',\n  'H',\n  '11/28/2010',\n  '539696347',\n  '1/11/2011',\n  '6997',\n  '81.73',\n  '56.67',\n  '571864.81',\n  '396519.99',\n  '175344.82'],\n ['Sub-Saharan Africa',\n  'Republic of the Congo',\n  'Personal Care',\n  'Online',\n  'H',\n  '9/26/2010',\n  '172243583',\n  '9/27/2010',\n  '9559',\n  '81.73',\n  '56.67',\n  '781257.07',\n  '541708.53',\n  '239548.54'],\n ['Asia',\n  'Kyrgyzstan',\n  'Personal Care',\n  'Offline',\n  'L',\n  '11/24/2011',\n  '587749087',\n  '1/7/2012',\n  '6871',\n  '81.73',\n  '56.67',\n  '561566.83',\n  '389379.57',\n  '172187.26'],\n ['Australia and Oceania',\n  'Federated States of Micronesia',\n  'Personal Care',\n  'Offline',\n  'M',\n  '10/17/2014',\n  '946996438',\n  '11/13/2014',\n  '6145',\n  '81.73',\n  '56.67',\n  '502230.85',\n  '348237.15',\n  '153993.70'],\n ['Europe',\n  'Lithuania',\n  'Personal Care',\n  'Offline',\n  'M',\n  '3/31/2013',\n  '386009633',\n  '4/5/2013',\n  '7683',\n  '81.73',\n  '56.67',\n  '627931.59',\n  '435395.61',\n  '192535.98'],\n ['Europe',\n  'Germany',\n  'Personal Care',\n  'Offline',\n  'H',\n  '2/8/2016',\n  '993368613',\n  '2/16/2016',\n  '8702',\n  '81.73',\n  '56.67',\n  '711214.46',\n  '493142.34',\n  '218072.12'],\n ['Middle East and North Africa',\n  'Egypt',\n  'Personal Care',\n  'Offline',\n  'L',\n  '6/30/2012',\n  '559157598',\n  '8/12/2012',\n  '6014',\n  '81.73',\n  '56.67',\n  '491524.22',\n  '340813.38',\n  '150710.84'],\n ['Europe',\n  'Romania',\n  'Personal Care',\n  'Offline',\n  'L',\n  '5/14/2013',\n  '853036296',\n  '6/1/2013',\n  '1251',\n  '81.73',\n  '56.67',\n  '102244.23',\n  '70894.17',\n  '31350.06'],\n ['Sub-Saharan Africa',\n  'Equatorial Guinea',\n  'Personal Care',\n  'Online',\n  'L',\n  '1/17/2015',\n  '543349730',\n  '2/7/2015',\n  '8115',\n  '81.73',\n  '56.67',\n  '663238.95',\n  '459877.05',\n  '203361.90'],\n ['Europe',\n  'Germany',\n  'Personal Care',\n  'Offline',\n  'H',\n  '7/27/2014',\n  '835093390',\n  '7/29/2014',\n  '1547',\n  '81.73',\n  '56.67',\n  '126436.31',\n  '87668.49',\n  '38767.82'],\n ['Central America and the Caribbean',\n  'Belize',\n  'Personal Care',\n  'Online',\n  'H',\n  '9/17/2010',\n  '891313779',\n  '10/25/2010',\n  '8409',\n  '81.73',\n  '56.67',\n  '687267.57',\n  '476538.03',\n  '210729.54'],\n ['Europe',\n  'Greece',\n  'Personal Care',\n  'Online',\n  'M',\n  '4/16/2017',\n  '800045716',\n  '5/14/2017',\n  '161',\n  '81.73',\n  '56.67',\n  '13158.53',\n  '9123.87',\n  '4034.66'],\n ['North America',\n  'Greenland',\n  'Personal Care',\n  'Offline',\n  'H',\n  '4/24/2012',\n  '182179772',\n  '5/23/2012',\n  '9898',\n  '81.73',\n  '56.67',\n  '808963.54',\n  '560919.66',\n  '248043.88'],\n ['Sub-Saharan Africa',\n  'Djibouti',\n  'Personal Care',\n  'Offline',\n  'C',\n  '5/20/2015',\n  '291470563',\n  '5/30/2015',\n  '1472',\n  '81.73',\n  '56.67',\n  '120306.56',\n  '83418.24',\n  '36888.32'],\n ['Sub-Saharan Africa',\n  'Rwanda',\n  'Personal Care',\n  'Offline',\n  'C',\n  '6/18/2013',\n  '589970815',\n  '7/13/2013',\n  '4329',\n  '81.73',\n  '56.67',\n  '353809.17',\n  '245324.43',\n  '108484.74'],\n ['Central America and the Caribbean',\n  'Panama',\n  'Personal Care',\n  'Online',\n  'H',\n  '10/9/2013',\n  '238396728',\n  '11/27/2013',\n  '5744',\n  '81.73',\n  '56.67',\n  '469457.12',\n  '325512.48',\n  '143944.64'],\n ['Central America and the Caribbean',\n  'Jamaica',\n  'Personal Care',\n  'Offline',\n  'L',\n  '9/16/2015',\n  '310492360',\n  '10/21/2015',\n  '444',\n  '81.73',\n  '56.67',\n  '36288.12',\n  '25161.48',\n  '11126.64'],\n ['Europe',\n  'Andorra',\n  'Personal Care',\n  'Offline',\n  'L',\n  '12/12/2014',\n  '754541289',\n  '12/19/2014',\n  '4390',\n  '81.73',\n  '56.67',\n  '358794.70',\n  '248781.30',\n  '110013.40'],\n ['Asia',\n  'Cambodia',\n  'Personal Care',\n  'Online',\n  'L',\n  '5/3/2015',\n  '993301236',\n  '6/1/2015',\n  '8764',\n  '81.73',\n  '56.67',\n  '716281.72',\n  '496655.88',\n  '219625.84'],\n ['Central America and the Caribbean',\n  'Haiti',\n  'Personal Care',\n  'Offline',\n  'C',\n  '7/1/2012',\n  '270072972',\n  '8/9/2012',\n  '9449',\n  '81.73',\n  '56.67',\n  '772266.77',\n  '535474.83',\n  '236791.94'],\n ['Asia',\n  'Bhutan',\n  'Personal Care',\n  'Online',\n  'M',\n  '4/4/2015',\n  '706260240',\n  '5/4/2015',\n  '6954',\n  '81.73',\n  '56.67',\n  '568350.42',\n  '394083.18',\n  '174267.24'],\n ['Europe',\n  'Kosovo',\n  'Personal Care',\n  'Online',\n  'L',\n  '2/17/2016',\n  '461445796',\n  '3/22/2016',\n  '920',\n  '81.73',\n  '56.67',\n  '75191.60',\n  '52136.40',\n  '23055.20'],\n ['Sub-Saharan Africa',\n  'Lesotho',\n  'Personal Care',\n  'Online',\n  'L',\n  '12/26/2013',\n  '195268094',\n  '1/21/2014',\n  '3023',\n  '81.73',\n  '56.67',\n  '247069.79',\n  '171313.41',\n  '75756.38'],\n ['Asia',\n  'Laos',\n  'Personal Care',\n  'Offline',\n  'L',\n  '12/15/2012',\n  '917293012',\n  '1/30/2013',\n  '6241',\n  '81.73',\n  '56.67',\n  '510076.93',\n  '353677.47',\n  '156399.46'],\n ['Sub-Saharan Africa',\n  'Democratic Republic of the Congo',\n  'Personal Care',\n  'Online',\n  'C',\n  '2/5/2012',\n  '801313006',\n  '2/15/2012',\n  '5180',\n  '81.73',\n  '56.67',\n  '423361.40',\n  '293550.60',\n  '129810.80'],\n ['Sub-Saharan Africa',\n  'Mozambique',\n  'Personal Care',\n  'Offline',\n  'L',\n  '12/2/2013',\n  '162677323',\n  '1/11/2014',\n  '8690',\n  '81.73',\n  '56.67',\n  '710233.70',\n  '492462.30',\n  '217771.40'],\n ['Asia',\n  'India',\n  'Personal Care',\n  'Online',\n  'C',\n  '12/10/2014',\n  '686294305',\n  '12/15/2014',\n  '8591',\n  '81.73',\n  '56.67',\n  '702142.43',\n  '486851.97',\n  '215290.46'],\n ['Europe',\n  'Vatican City',\n  'Personal Care',\n  'Offline',\n  'M',\n  '4/15/2016',\n  '626322257',\n  '5/5/2016',\n  '1529',\n  '81.73',\n  '56.67',\n  '124965.17',\n  '86648.43',\n  '38316.74'],\n ['Sub-Saharan Africa',\n  'Cameroon',\n  'Personal Care',\n  'Offline',\n  'M',\n  '2/3/2015',\n  '169843757',\n  '3/19/2015',\n  '9397',\n  '81.73',\n  '56.67',\n  '768016.81',\n  '532527.99',\n  '235488.82'],\n ['Middle East and North Africa',\n  'Iraq',\n  'Personal Care',\n  'Online',\n  'H',\n  '11/19/2013',\n  '745253551',\n  '12/12/2013',\n  '5942',\n  '81.73',\n  '56.67',\n  '485639.66',\n  '336733.14',\n  '148906.52'],\n ['Europe',\n  'Iceland',\n  'Personal Care',\n  'Offline',\n  'C',\n  '9/19/2010',\n  '570703542',\n  '11/3/2010',\n  '2715',\n  '81.73',\n  '56.67',\n  '221896.95',\n  '153859.05',\n  '68037.90'],\n ['Asia',\n  'Malaysia',\n  'Personal Care',\n  'Online',\n  'M',\n  '4/9/2013',\n  '107670581',\n  '5/1/2013',\n  '972',\n  '81.73',\n  '56.67',\n  '79441.56',\n  '55083.24',\n  '24358.32'],\n ['Europe',\n  'Latvia',\n  'Personal Care',\n  'Offline',\n  'H',\n  '11/2/2013',\n  '913074433',\n  '12/17/2013',\n  '7870',\n  '81.73',\n  '56.67',\n  '643215.10',\n  '445992.90',\n  '197222.20'],\n ['Middle East and North Africa',\n  'United Arab Emirates',\n  'Personal Care',\n  'Online',\n  'C',\n  '8/18/2011',\n  '609976661',\n  '8/20/2011',\n  '4504',\n  '81.73',\n  '56.67',\n  '368111.92',\n  '255241.68',\n  '112870.24'],\n ['Middle East and North Africa',\n  'Yemen',\n  'Personal Care',\n  'Online',\n  'H',\n  '4/29/2012',\n  '956431376',\n  '6/14/2012',\n  '8153',\n  '81.73',\n  '56.67',\n  '666344.69',\n  '462030.51',\n  '204314.18'],\n ['Europe',\n  'Liechtenstein',\n  'Personal Care',\n  'Online',\n  'H',\n  '1/4/2012',\n  '527259910',\n  '1/11/2012',\n  '6779',\n  '81.73',\n  '56.67',\n  '554047.67',\n  '384165.93',\n  '169881.74'],\n ['Europe',\n  'Armenia',\n  'Personal Care',\n  'Online',\n  'C',\n  '1/16/2010',\n  '667420995',\n  '1/18/2010',\n  '3559',\n  '81.73',\n  '56.67',\n  '290877.07',\n  '201688.53',\n  '89188.54'],\n ['Australia and Oceania',\n  'East Timor',\n  'Personal Care',\n  'Offline',\n  'H',\n  '3/25/2014',\n  '191301858',\n  '4/6/2014',\n  '9326',\n  '81.73',\n  '56.67',\n  '762213.98',\n  '528504.42',\n  '233709.56'],\n ['Europe',\n  'Vatican City',\n  'Personal Care',\n  'Offline',\n  'M',\n  '5/24/2012',\n  '336111962',\n  '6/16/2012',\n  '1854',\n  '81.73',\n  '56.67',\n  '151527.42',\n  '105066.18',\n  '46461.24'],\n ['Sub-Saharan Africa',\n  'Equatorial Guinea',\n  'Personal Care',\n  'Online',\n  'M',\n  '6/20/2017',\n  '406157100',\n  '7/13/2017',\n  '9766',\n  '81.73',\n  '56.67',\n  '798175.18',\n  '553439.22',\n  '244735.96'],\n ['Sub-Saharan Africa',\n  'Sao Tome and Principe',\n  'Personal Care',\n  'Online',\n  'M',\n  '5/28/2013',\n  '931084716',\n  '7/7/2013',\n  '7513',\n  '81.73',\n  '56.67',\n  '614037.49',\n  '425761.71',\n  '188275.78'],\n ['Europe',\n  'Lithuania',\n  'Personal Care',\n  'Offline',\n  'L',\n  '4/19/2011',\n  '129875409',\n  '4/26/2011',\n  '1875',\n  '81.73',\n  '56.67',\n  '153243.75',\n  '106256.25',\n  '46987.50'],\n ['Europe',\n  'Italy',\n  'Personal Care',\n  'Offline',\n  'L',\n  '11/14/2012',\n  '306256616',\n  '11/18/2012',\n  '6993',\n  '81.73',\n  '56.67',\n  '571537.89',\n  '396293.31',\n  '175244.58'],\n ['Asia',\n  'Kyrgyzstan',\n  'Personal Care',\n  'Online',\n  'M',\n  '7/1/2014',\n  '682381713',\n  '7/8/2014',\n  '768',\n  '81.73',\n  '56.67',\n  '62768.64',\n  '43522.56',\n  '19246.08'],\n ['Asia',\n  'India',\n  'Personal Care',\n  'Offline',\n  'C',\n  '6/23/2012',\n  '537588775',\n  '7/19/2012',\n  '3320',\n  '81.73',\n  '56.67',\n  '271343.60',\n  '188144.40',\n  '83199.20'],\n ['Sub-Saharan Africa',\n  'Chad',\n  'Personal Care',\n  'Online',\n  'C',\n  '10/27/2015',\n  '688569676',\n  '10/29/2015',\n  '1924',\n  '81.73',\n  '56.67',\n  '157248.52',\n  '109033.08',\n  '48215.44'],\n ['Sub-Saharan Africa',\n  'Kenya',\n  'Personal Care',\n  'Online',\n  'M',\n  '8/7/2011',\n  '593681275',\n  '9/11/2011',\n  '2337',\n  '81.73',\n  '56.67',\n  '191003.01',\n  '132437.79',\n  '58565.22'],\n ['Central America and the Caribbean',\n  'Belize',\n  'Personal Care',\n  'Offline',\n  'H',\n  '5/17/2010',\n  '527948272',\n  '5/21/2010',\n  '481',\n  '81.73',\n  '56.67',\n  '39312.13',\n  '27258.27',\n  '12053.86'],\n ['Sub-Saharan Africa',\n  'Senegal',\n  'Personal Care',\n  'Offline',\n  'M',\n  '4/18/2011',\n  '321352088',\n  '5/6/2011',\n  '4079',\n  '81.73',\n  '56.67',\n  '333376.67',\n  '231156.93',\n  '102219.74'],\n ['Central America and the Caribbean',\n  'Honduras',\n  'Personal Care',\n  'Offline',\n  'H',\n  '11/14/2015',\n  '751465547',\n  '12/12/2015',\n  '4209',\n  '81.73',\n  '56.67',\n  '344001.57',\n  '238524.03',\n  '105477.54'],\n ['Middle East and North Africa',\n  'United Arab Emirates',\n  'Personal Care',\n  'Online',\n  'M',\n  '7/20/2016',\n  '685329568',\n  '7/29/2016',\n  '3104',\n  '81.73',\n  '56.67',\n  '253689.92',\n  '175903.68',\n  '77786.24'],\n ['Sub-Saharan Africa',\n  'Ethiopia',\n  'Personal Care',\n  'Online',\n  'H',\n  '7/22/2016',\n  '884520709',\n  '8/9/2016',\n  '8189',\n  '81.73',\n  '56.67',\n  '669286.97',\n  '464070.63',\n  '205216.34'],\n ['Europe',\n  'Germany',\n  'Personal Care',\n  'Offline',\n  'C',\n  '3/14/2010',\n  '938209950',\n  '3/16/2010',\n  '6028',\n  '81.73',\n  '56.67',\n  '492668.44',\n  '341606.76',\n  '151061.68'],\n ['Sub-Saharan Africa',\n  'Mauritius ',\n  'Personal Care',\n  'Offline',\n  'H',\n  '7/23/2013',\n  '179588115',\n  '8/23/2013',\n  '2969',\n  '81.73',\n  '56.67',\n  '242656.37',\n  '168253.23',\n  '74403.14'],\n ['North America',\n  'United States of America',\n  'Personal Care',\n  'Offline',\n  'L',\n  '8/16/2016',\n  '444854724',\n  '8/26/2016',\n  '1253',\n  '81.73',\n  '56.67',\n  '102407.69',\n  '71007.51',\n  '31400.18'],\n ['Sub-Saharan Africa',\n  'Kenya',\n  'Personal Care',\n  'Online',\n  'M',\n  '11/18/2012',\n  '257767856',\n  '1/3/2013',\n  '8092',\n  '81.73',\n  '56.67',\n  '661359.16',\n  '458573.64',\n  '202785.52'],\n ['Australia and Oceania',\n  'Marshall Islands',\n  'Personal Care',\n  'Offline',\n  'C',\n  '5/8/2012',\n  '393336999',\n  '5/14/2012',\n  '6014',\n  '81.73',\n  '56.67',\n  '491524.22',\n  '340813.38',\n  '150710.84'],\n ['Sub-Saharan Africa',\n  'Chad',\n  'Personal Care',\n  'Online',\n  'M',\n  '5/21/2010',\n  '918026006',\n  '7/9/2010',\n  '3151',\n  '81.73',\n  '56.67',\n  '257531.23',\n  '178567.17',\n  '78964.06'],\n ['Europe',\n  'Ireland',\n  'Personal Care',\n  'Offline',\n  'L',\n  '4/28/2012',\n  '547225844',\n  '5/30/2012',\n  '5143',\n  '81.73',\n  '56.67',\n  '420337.39',\n  '291453.81',\n  '128883.58'],\n ['Sub-Saharan Africa',\n  'Burkina Faso',\n  'Personal Care',\n  'Offline',\n  'M',\n  '11/18/2015',\n  '214346969',\n  '12/20/2015',\n  '8886',\n  '81.73',\n  '56.67',\n  '726252.78',\n  '503569.62',\n  '222683.16'],\n ['Europe',\n  'Denmark',\n  'Personal Care',\n  'Offline',\n  'C',\n  '6/18/2014',\n  '597839343',\n  '7/26/2014',\n  '2802',\n  '81.73',\n  '56.67',\n  '229007.46',\n  '158789.34',\n  '70218.12'],\n ['Middle East and North Africa',\n  'Libya',\n  'Personal Care',\n  'Online',\n  'H',\n  '1/13/2016',\n  '589237821',\n  '2/4/2016',\n  '7420',\n  '81.73',\n  '56.67',\n  '606436.60',\n  '420491.40',\n  '185945.20'],\n ['Sub-Saharan Africa',\n  \"Cote d'Ivoire\",\n  'Personal Care',\n  'Online',\n  'M',\n  '11/5/2012',\n  '299840342',\n  '12/8/2012',\n  '8275',\n  '81.73',\n  '56.67',\n  '676315.75',\n  '468944.25',\n  '207371.50'],\n ['Europe',\n  'San Marino',\n  'Personal Care',\n  'Offline',\n  'H',\n  '9/29/2015',\n  '625751483',\n  '10/1/2015',\n  '2624',\n  '81.73',\n  '56.67',\n  '214459.52',\n  '148702.08',\n  '65757.44'],\n ['Central America and the Caribbean',\n  'The Bahamas',\n  'Personal Care',\n  'Offline',\n  'M',\n  '6/24/2014',\n  '386526763',\n  '7/1/2014',\n  '713',\n  '81.73',\n  '56.67',\n  '58273.49',\n  '40405.71',\n  '17867.78'],\n ['Sub-Saharan Africa',\n  'Cameroon',\n  'Personal Care',\n  'Offline',\n  'M',\n  '1/7/2014',\n  '689370048',\n  '2/10/2014',\n  '8771',\n  '81.73',\n  '56.67',\n  '716853.83',\n  '497052.57',\n  '219801.26'],\n ['Australia and Oceania',\n  'Tuvalu',\n  'Personal Care',\n  'Offline',\n  'L',\n  '9/11/2016',\n  '874017179',\n  '10/19/2016',\n  '9961',\n  '81.73',\n  '56.67',\n  '814112.53',\n  '564489.87',\n  '249622.66'],\n ['Europe',\n  'Romania',\n  'Personal Care',\n  'Offline',\n  'M',\n  '12/21/2012',\n  '215540015',\n  '12/24/2012',\n  '1935',\n  '81.73',\n  '56.67',\n  '158147.55',\n  '109656.45',\n  '48491.10'],\n ['Central America and the Caribbean',\n  'Saint Kitts and Nevis ',\n  'Personal Care',\n  'Offline',\n  'L',\n  '7/7/2012',\n  '106659066',\n  '8/19/2012',\n  '1643',\n  '81.73',\n  '56.67',\n  '134282.39',\n  '93108.81',\n  '41173.58'],\n ['Sub-Saharan Africa',\n  'Eritrea',\n  'Personal Care',\n  'Offline',\n  'M',\n  '7/22/2016',\n  '269276034',\n  '8/14/2016',\n  '3617',\n  '81.73',\n  '56.67',\n  '295617.41',\n  '204975.39',\n  '90642.02'],\n ['Sub-Saharan Africa',\n  'Ethiopia',\n  'Personal Care',\n  'Online',\n  'L',\n  '3/23/2014',\n  '435006511',\n  '3/29/2014',\n  '6948',\n  '81.73',\n  '56.67',\n  '567860.04',\n  '393743.16',\n  '174116.88'],\n ['Sub-Saharan Africa',\n  'Senegal',\n  'Personal Care',\n  'Online',\n  'H',\n  '10/19/2010',\n  '417013394',\n  '11/29/2010',\n  '2385',\n  '81.73',\n  '56.67',\n  '194926.05',\n  '135157.95',\n  '59768.10'],\n ['Sub-Saharan Africa',\n  'Nigeria',\n  'Personal Care',\n  'Online',\n  'C',\n  '4/29/2010',\n  '589856660',\n  '5/10/2010',\n  '548',\n  '81.73',\n  '56.67',\n  '44788.04',\n  '31055.16',\n  '13732.88'],\n ['Sub-Saharan Africa',\n  'Togo',\n  'Personal Care',\n  'Online',\n  'L',\n  '2/16/2012',\n  '767899119',\n  '3/7/2012',\n  '7269',\n  '81.73',\n  '56.67',\n  '594095.37',\n  '411934.23',\n  '182161.14'],\n ['Europe',\n  'Switzerland',\n  'Personal Care',\n  'Offline',\n  'H',\n  '4/19/2014',\n  '653800523',\n  '4/23/2014',\n  '2958',\n  '81.73',\n  '56.67',\n  '241757.34',\n  '167629.86',\n  '74127.48'],\n ['Europe',\n  'Vatican City',\n  'Personal Care',\n  'Online',\n  'H',\n  '1/27/2016',\n  '133276450',\n  '3/15/2016',\n  '8318',\n  '81.73',\n  '56.67',\n  '679830.14',\n  '471381.06',\n  '208449.08'],\n ['Europe',\n  'Moldova ',\n  'Personal Care',\n  'Offline',\n  'L',\n  '2/17/2014',\n  '838895261',\n  '2/19/2014',\n  '6605',\n  '81.73',\n  '56.67',\n  '539826.65',\n  '374305.35',\n  '165521.30'],\n ['Europe',\n  'Hungary',\n  'Personal Care',\n  'Offline',\n  'H',\n  '10/16/2014',\n  '302744853',\n  '11/2/2014',\n  '7785',\n  '81.73',\n  '56.67',\n  \n\n*** WARNING: max output size exceeded, skipping output. ***\n\n'7/20/2017',\n  '1205',\n  '81.73',\n  '56.67',\n  '98484.65',\n  '68287.35',\n  '30197.30'],\n ['Asia',\n  'Uzbekistan',\n  'Personal Care',\n  'Online',\n  'C',\n  '3/20/2016',\n  '706491982',\n  '4/11/2016',\n  '5532',\n  '81.73',\n  '56.67',\n  '452130.36',\n  '313498.44',\n  '138631.92'],\n ['Europe',\n  'Slovenia',\n  'Personal Care',\n  'Online',\n  'C',\n  '6/6/2010',\n  '243391644',\n  '6/27/2010',\n  '3851',\n  '81.73',\n  '56.67',\n  '314742.23',\n  '218236.17',\n  '96506.06'],\n ['Sub-Saharan Africa',\n  'South Sudan',\n  'Personal Care',\n  'Online',\n  'M',\n  '9/1/2016',\n  '541440856',\n  '9/27/2016',\n  '3236',\n  '81.73',\n  '56.67',\n  '264478.28',\n  '183384.12',\n  '81094.16'],\n ['Australia and Oceania',\n  'Marshall Islands',\n  'Personal Care',\n  'Offline',\n  'M',\n  '12/30/2013',\n  '940512788',\n  '1/25/2014',\n  '7489',\n  '81.73',\n  '56.67',\n  '612075.97',\n  '424401.63',\n  '187674.34'],\n ['Europe',\n  'San Marino',\n  'Personal Care',\n  'Online',\n  'C',\n  '5/27/2010',\n  '293178594',\n  '6/1/2010',\n  '6916',\n  '81.73',\n  '56.67',\n  '565244.68',\n  '391929.72',\n  '173314.96'],\n ['Sub-Saharan Africa',\n  'Malawi',\n  'Personal Care',\n  'Offline',\n  'C',\n  '4/9/2012',\n  '160334575',\n  '4/23/2012',\n  '5418',\n  '81.73',\n  '56.67',\n  '442813.14',\n  '307038.06',\n  '135775.08'],\n ['Sub-Saharan Africa',\n  'Nigeria',\n  'Personal Care',\n  'Online',\n  'H',\n  '2/23/2013',\n  '499593245',\n  '4/13/2013',\n  '9598',\n  '81.73',\n  '56.67',\n  '784444.54',\n  '543918.66',\n  '240525.88'],\n ['Europe',\n  'Italy',\n  'Personal Care',\n  'Offline',\n  'M',\n  '6/9/2016',\n  '589842927',\n  '7/28/2016',\n  '6485',\n  '81.73',\n  '56.67',\n  '530019.05',\n  '367504.95',\n  '162514.10'],\n ['Sub-Saharan Africa',\n  'Central African Republic',\n  'Personal Care',\n  'Online',\n  'L',\n  '7/19/2011',\n  '711792886',\n  '9/6/2011',\n  '4187',\n  '81.73',\n  '56.67',\n  '342203.51',\n  '237277.29',\n  '104926.22'],\n ['Sub-Saharan Africa',\n  'Comoros',\n  'Personal Care',\n  'Online',\n  'L',\n  '9/18/2015',\n  '299669110',\n  '10/26/2015',\n  '7604',\n  '81.73',\n  '56.67',\n  '621474.92',\n  '430918.68',\n  '190556.24'],\n ['North America',\n  'Mexico',\n  'Personal Care',\n  'Online',\n  'M',\n  '1/19/2010',\n  '475590264',\n  '2/4/2010',\n  '6583',\n  '81.73',\n  '56.67',\n  '538028.59',\n  '373058.61',\n  '164969.98'],\n ['Asia',\n  'Laos',\n  'Personal Care',\n  'Offline',\n  'H',\n  '5/7/2012',\n  '686750924',\n  '5/16/2012',\n  '3714',\n  '81.73',\n  '56.67',\n  '303545.22',\n  '210472.38',\n  '93072.84'],\n ['Europe',\n  'Romania',\n  'Personal Care',\n  'Online',\n  'L',\n  '4/21/2010',\n  '917904984',\n  '4/24/2010',\n  '7338',\n  '81.73',\n  '56.67',\n  '599734.74',\n  '415844.46',\n  '183890.28'],\n ['Central America and the Caribbean',\n  'Antigua and Barbuda ',\n  'Personal Care',\n  'Offline',\n  'M',\n  '6/6/2011',\n  '192892301',\n  '7/4/2011',\n  '9973',\n  '81.73',\n  '56.67',\n  '815093.29',\n  '565169.91',\n  '249923.38'],\n ['Asia',\n  'Thailand',\n  'Personal Care',\n  'Online',\n  'C',\n  '3/5/2013',\n  '651162087',\n  '3/26/2013',\n  '2187',\n  '81.73',\n  '56.67',\n  '178743.51',\n  '123937.29',\n  '54806.22'],\n ['Europe',\n  'Romania',\n  'Personal Care',\n  'Offline',\n  'H',\n  '9/30/2014',\n  '264526593',\n  '10/7/2014',\n  '8152',\n  '81.73',\n  '56.67',\n  '666262.96',\n  '461973.84',\n  '204289.12'],\n ['Europe',\n  'Ukraine',\n  'Personal Care',\n  'Offline',\n  'C',\n  '4/17/2017',\n  '485929429',\n  '5/19/2017',\n  '6171',\n  '81.73',\n  '56.67',\n  '504355.83',\n  '349710.57',\n  '154645.26'],\n ['Europe',\n  'Germany',\n  'Personal Care',\n  'Online',\n  'L',\n  '12/3/2012',\n  '287917602',\n  '1/5/2013',\n  '71',\n  '81.73',\n  '56.67',\n  '5802.83',\n  '4023.57',\n  '1779.26'],\n ['Europe',\n  'Croatia',\n  'Personal Care',\n  'Offline',\n  'M',\n  '3/29/2013',\n  '396832883',\n  '3/31/2013',\n  '523',\n  '81.73',\n  '56.67',\n  '42744.79',\n  '29638.41',\n  '13106.38'],\n ['Central America and the Caribbean',\n  'El Salvador',\n  'Personal Care',\n  'Offline',\n  'M',\n  '8/26/2015',\n  '803252780',\n  '10/14/2015',\n  '9202',\n  '81.73',\n  '56.67',\n  '752079.46',\n  '521477.34',\n  '230602.12'],\n ['Sub-Saharan Africa',\n  'Mali',\n  'Personal Care',\n  'Offline',\n  'M',\n  '4/1/2012',\n  '565288484',\n  '4/6/2012',\n  '279',\n  '81.73',\n  '56.67',\n  '22802.67',\n  '15810.93',\n  '6991.74'],\n ['Europe',\n  'Ireland',\n  'Personal Care',\n  'Online',\n  'C',\n  '10/3/2014',\n  '941524302',\n  '10/9/2014',\n  '6819',\n  '81.73',\n  '56.67',\n  '557316.87',\n  '386432.73',\n  '170884.14'],\n ['Sub-Saharan Africa',\n  'Tanzania',\n  'Personal Care',\n  'Offline',\n  'M',\n  '10/2/2013',\n  '711597621',\n  '11/14/2013',\n  '6404',\n  '81.73',\n  '56.67',\n  '523398.92',\n  '362914.68',\n  '160484.24'],\n ['Asia',\n  'Turkmenistan',\n  'Personal Care',\n  'Online',\n  'M',\n  '7/4/2013',\n  '507714116',\n  '8/23/2013',\n  '2744',\n  '81.73',\n  '56.67',\n  '224267.12',\n  '155502.48',\n  '68764.64'],\n ['Europe',\n  'Russia',\n  'Personal Care',\n  'Online',\n  'M',\n  '9/14/2014',\n  '371814954',\n  '10/8/2014',\n  '7162',\n  '81.73',\n  '56.67',\n  '585350.26',\n  '405870.54',\n  '179479.72'],\n ['Europe',\n  'United Kingdom',\n  'Personal Care',\n  'Offline',\n  'M',\n  '9/22/2011',\n  '509380948',\n  '9/27/2011',\n  '5997',\n  '81.73',\n  '56.67',\n  '490134.81',\n  '339849.99',\n  '150284.82'],\n ['Central America and the Caribbean',\n  'The Bahamas',\n  'Personal Care',\n  'Online',\n  'M',\n  '10/1/2012',\n  '845496499',\n  '11/2/2012',\n  '58',\n  '81.73',\n  '56.67',\n  '4740.34',\n  '3286.86',\n  '1453.48'],\n ['Sub-Saharan Africa',\n  'Tanzania',\n  'Personal Care',\n  'Offline',\n  'L',\n  '1/29/2011',\n  '291904437',\n  '3/11/2011',\n  '9865',\n  '81.73',\n  '56.67',\n  '806266.45',\n  '559049.55',\n  '247216.90'],\n ['Europe',\n  'Belarus',\n  'Personal Care',\n  'Online',\n  'M',\n  '7/24/2013',\n  '638856971',\n  '8/21/2013',\n  '829',\n  '81.73',\n  '56.67',\n  '67754.17',\n  '46979.43',\n  '20774.74'],\n ['Sub-Saharan Africa',\n  'Cameroon',\n  'Personal Care',\n  'Online',\n  'M',\n  '12/6/2013',\n  '660832202',\n  '1/24/2014',\n  '3789',\n  '81.73',\n  '56.67',\n  '309674.97',\n  '214722.63',\n  '94952.34'],\n ['Sub-Saharan Africa',\n  'Ghana',\n  'Personal Care',\n  'Offline',\n  'H',\n  '2/24/2017',\n  '779377686',\n  '4/8/2017',\n  '4032',\n  '81.73',\n  '56.67',\n  '329535.36',\n  '228493.44',\n  '101041.92'],\n ['Sub-Saharan Africa',\n  'Uganda',\n  'Personal Care',\n  'Offline',\n  'H',\n  '7/27/2010',\n  '336635959',\n  '8/2/2010',\n  '6916',\n  '81.73',\n  '56.67',\n  '565244.68',\n  '391929.72',\n  '173314.96'],\n ['Europe',\n  'France',\n  'Personal Care',\n  'Online',\n  'H',\n  '10/16/2010',\n  '762655293',\n  '11/11/2010',\n  '5504',\n  '81.73',\n  '56.67',\n  '449841.92',\n  '311911.68',\n  '137930.24'],\n ['Europe',\n  'Romania',\n  'Personal Care',\n  'Offline',\n  'L',\n  '1/14/2015',\n  '119935786',\n  '1/27/2015',\n  '519',\n  '81.73',\n  '56.67',\n  '42417.87',\n  '29411.73',\n  '13006.14'],\n ['Sub-Saharan Africa',\n  'Rwanda',\n  'Personal Care',\n  'Offline',\n  'H',\n  '4/3/2017',\n  '998094022',\n  '4/16/2017',\n  '7056',\n  '81.73',\n  '56.67',\n  '576686.88',\n  '399863.52',\n  '176823.36'],\n ['Central America and the Caribbean',\n  'Saint Vincent and the Grenadines',\n  'Personal Care',\n  'Offline',\n  'L',\n  '11/5/2010',\n  '864437186',\n  '11/19/2010',\n  '5028',\n  '81.73',\n  '56.67',\n  '410938.44',\n  '284936.76',\n  '126001.68'],\n ['Central America and the Caribbean',\n  'Guatemala',\n  'Personal Care',\n  'Offline',\n  'C',\n  '11/5/2011',\n  '431574571',\n  '11/29/2011',\n  '1361',\n  '81.73',\n  '56.67',\n  '111234.53',\n  '77127.87',\n  '34106.66'],\n ['Asia',\n  'Turkmenistan',\n  'Personal Care',\n  'Offline',\n  'C',\n  '11/14/2014',\n  '743597018',\n  '11/29/2014',\n  '5737',\n  '81.73',\n  '56.67',\n  '468885.01',\n  '325115.79',\n  '143769.22'],\n ['Europe',\n  'Slovakia',\n  'Personal Care',\n  'Offline',\n  'C',\n  '12/23/2016',\n  '877687728',\n  '2/7/2017',\n  '6158',\n  '81.73',\n  '56.67',\n  '503293.34',\n  '348973.86',\n  '154319.48'],\n ['Sub-Saharan Africa',\n  'Botswana',\n  'Personal Care',\n  'Online',\n  'L',\n  '9/2/2015',\n  '228114640',\n  '9/16/2015',\n  '3046',\n  '81.73',\n  '56.67',\n  '248949.58',\n  '172616.82',\n  '76332.76'],\n ['Central America and the Caribbean',\n  'Barbados',\n  'Personal Care',\n  'Online',\n  'L',\n  '9/5/2013',\n  '488474309',\n  '10/21/2013',\n  '9258',\n  '81.73',\n  '56.67',\n  '756656.34',\n  '524650.86',\n  '232005.48'],\n ['Sub-Saharan Africa',\n  'Madagascar',\n  'Personal Care',\n  'Online',\n  'M',\n  '7/12/2013',\n  '292072236',\n  '8/1/2013',\n  '9520',\n  '81.73',\n  '56.67',\n  '778069.60',\n  '539498.40',\n  '238571.20'],\n ['Europe',\n  'Croatia',\n  'Personal Care',\n  'Offline',\n  'C',\n  '5/5/2014',\n  '309655511',\n  '5/21/2014',\n  '2802',\n  '81.73',\n  '56.67',\n  '229007.46',\n  '158789.34',\n  '70218.12'],\n ['Europe',\n  'Netherlands',\n  'Personal Care',\n  'Online',\n  'C',\n  '3/10/2012',\n  '544741475',\n  '3/25/2012',\n  '9963',\n  '81.73',\n  '56.67',\n  '814275.99',\n  '564603.21',\n  '249672.78'],\n ['Europe',\n  'Denmark',\n  'Personal Care',\n  'Online',\n  'L',\n  '2/4/2016',\n  '478840672',\n  '2/9/2016',\n  '8451',\n  '81.73',\n  '56.67',\n  '690700.23',\n  '478918.17',\n  '211782.06'],\n ['Sub-Saharan Africa',\n  'Zambia',\n  'Personal Care',\n  'Offline',\n  'M',\n  '6/5/2017',\n  '617193305',\n  '6/10/2017',\n  '69',\n  '81.73',\n  '56.67',\n  '5639.37',\n  '3910.23',\n  '1729.14'],\n ['Europe',\n  'Latvia',\n  'Personal Care',\n  'Online',\n  'L',\n  '3/29/2011',\n  '140499961',\n  '4/30/2011',\n  '5915',\n  '81.73',\n  '56.67',\n  '483432.95',\n  '335203.05',\n  '148229.90'],\n ['Sub-Saharan Africa',\n  'Swaziland',\n  'Personal Care',\n  'Online',\n  'M',\n  '3/24/2010',\n  '911290013',\n  '4/3/2010',\n  '9821',\n  '81.73',\n  '56.67',\n  '802670.33',\n  '556556.07',\n  '246114.26'],\n ['Asia',\n  'North Korea',\n  'Personal Care',\n  'Online',\n  'L',\n  '11/6/2014',\n  '481432330',\n  '11/9/2014',\n  '5380',\n  '81.73',\n  '56.67',\n  '439707.40',\n  '304884.60',\n  '134822.80'],\n ['Asia',\n  'South Korea',\n  'Personal Care',\n  'Offline',\n  'M',\n  '6/29/2014',\n  '745078885',\n  '7/11/2014',\n  '4254',\n  '81.73',\n  '56.67',\n  '347679.42',\n  '241074.18',\n  '106605.24'],\n ['Europe',\n  'Netherlands',\n  'Personal Care',\n  'Offline',\n  'H',\n  '5/8/2010',\n  '392752492',\n  '6/3/2010',\n  '3045',\n  '81.73',\n  '56.67',\n  '248867.85',\n  '172560.15',\n  '76307.70'],\n ['North America',\n  'United States of America',\n  'Personal Care',\n  'Offline',\n  'L',\n  '11/21/2011',\n  '120765769',\n  '1/10/2012',\n  '6130',\n  '81.73',\n  '56.67',\n  '501004.90',\n  '347387.10',\n  '153617.80'],\n ['Sub-Saharan Africa',\n  'Benin',\n  'Personal Care',\n  'Offline',\n  'H',\n  '2/3/2014',\n  '683941256',\n  '3/6/2014',\n  '2271',\n  '81.73',\n  '56.67',\n  '185608.83',\n  '128697.57',\n  '56911.26'],\n ['Australia and Oceania',\n  'Tonga',\n  'Personal Care',\n  'Offline',\n  'L',\n  '10/28/2015',\n  '605170142',\n  '11/1/2015',\n  '2148',\n  '81.73',\n  '56.67',\n  '175556.04',\n  '121727.16',\n  '53828.88'],\n ['Middle East and North Africa',\n  'Morocco',\n  'Personal Care',\n  'Online',\n  'H',\n  '9/16/2015',\n  '385233294',\n  '10/21/2015',\n  '7947',\n  '81.73',\n  '56.67',\n  '649508.31',\n  '450356.49',\n  '199151.82'],\n ['Europe',\n  'Latvia',\n  'Personal Care',\n  'Offline',\n  'L',\n  '9/13/2012',\n  '936411798',\n  '9/17/2012',\n  '3915',\n  '81.73',\n  '56.67',\n  '319972.95',\n  '221863.05',\n  '98109.90'],\n ['Europe',\n  'Lithuania',\n  'Personal Care',\n  'Online',\n  'H',\n  '5/13/2015',\n  '120419871',\n  '6/26/2015',\n  '3771',\n  '81.73',\n  '56.67',\n  '308203.83',\n  '213702.57',\n  '94501.26'],\n ['Asia',\n  'Kyrgyzstan',\n  'Personal Care',\n  'Offline',\n  'M',\n  '3/4/2016',\n  '171339356',\n  '3/7/2016',\n  '1978',\n  '81.73',\n  '56.67',\n  '161661.94',\n  '112093.26',\n  '49568.68'],\n ['Middle East and North Africa',\n  'Libya',\n  'Personal Care',\n  'Offline',\n  'M',\n  '3/9/2013',\n  '247152316',\n  '4/9/2013',\n  '6717',\n  '81.73',\n  '56.67',\n  '548980.41',\n  '380652.39',\n  '168328.02'],\n ['Middle East and North Africa',\n  'Tunisia ',\n  'Personal Care',\n  'Offline',\n  'C',\n  '9/24/2011',\n  '752141463',\n  '11/12/2011',\n  '4228',\n  '81.73',\n  '56.67',\n  '345554.44',\n  '239600.76',\n  '105953.68'],\n ['Sub-Saharan Africa',\n  'Malawi',\n  'Personal Care',\n  'Online',\n  'C',\n  '10/26/2016',\n  '201668488',\n  '10/31/2016',\n  '7042',\n  '81.73',\n  '56.67',\n  '575542.66',\n  '399070.14',\n  '176472.52'],\n ['Middle East and North Africa',\n  'Israel',\n  'Personal Care',\n  'Online',\n  'C',\n  '4/6/2015',\n  '462555587',\n  '5/12/2015',\n  '9332',\n  '81.73',\n  '56.67',\n  '762704.36',\n  '528844.44',\n  '233859.92'],\n ['Central America and the Caribbean',\n  'Saint Kitts and Nevis ',\n  'Personal Care',\n  'Offline',\n  'C',\n  '4/25/2010',\n  '281013810',\n  '5/10/2010',\n  '7086',\n  '81.73',\n  '56.67',\n  '579138.78',\n  '401563.62',\n  '177575.16'],\n ['Sub-Saharan Africa',\n  'Benin',\n  'Personal Care',\n  'Online',\n  'M',\n  '2/14/2012',\n  '217516267',\n  '3/14/2012',\n  '6752',\n  '81.73',\n  '56.67',\n  '551840.96',\n  '382635.84',\n  '169205.12'],\n ['Sub-Saharan Africa',\n  'Zambia',\n  'Personal Care',\n  'Offline',\n  'L',\n  '6/12/2011',\n  '827541148',\n  '7/23/2011',\n  '6670',\n  '81.73',\n  '56.67',\n  '545139.10',\n  '377988.90',\n  '167150.20'],\n ['Sub-Saharan Africa',\n  'South Sudan',\n  'Personal Care',\n  'Offline',\n  'L',\n  '4/26/2012',\n  '917545354',\n  '5/30/2012',\n  '915',\n  '81.73',\n  '56.67',\n  '74782.95',\n  '51853.05',\n  '22929.90'],\n ['Europe',\n  'Ireland',\n  'Personal Care',\n  'Offline',\n  'L',\n  '1/5/2014',\n  '702357947',\n  '2/4/2014',\n  '2179',\n  '81.73',\n  '56.67',\n  '178089.67',\n  '123483.93',\n  '54605.74'],\n ['Asia',\n  'Maldives',\n  'Personal Care',\n  'Online',\n  'C',\n  '1/20/2012',\n  '939772927',\n  '3/3/2012',\n  '8548',\n  '81.73',\n  '56.67',\n  '698628.04',\n  '484415.16',\n  '214212.88'],\n ['Asia',\n  'Laos',\n  'Personal Care',\n  'Online',\n  'C',\n  '3/10/2017',\n  '892926967',\n  '4/7/2017',\n  '5787',\n  '81.73',\n  '56.67',\n  '472971.51',\n  '327949.29',\n  '145022.22'],\n ['Middle East and North Africa',\n  'Jordan',\n  'Personal Care',\n  'Online',\n  'L',\n  '8/8/2013',\n  '149205338',\n  '8/21/2013',\n  '2030',\n  '81.73',\n  '56.67',\n  '165911.90',\n  '115040.10',\n  '50871.80'],\n ['Middle East and North Africa',\n  'Yemen',\n  'Personal Care',\n  'Offline',\n  'L',\n  '9/25/2011',\n  '492063748',\n  '10/5/2011',\n  '1453',\n  '81.73',\n  '56.67',\n  '118753.69',\n  '82341.51',\n  '36412.18'],\n ['Middle East and North Africa',\n  'Oman',\n  'Personal Care',\n  'Online',\n  'M',\n  '11/24/2013',\n  '975026166',\n  '12/15/2013',\n  '765',\n  '81.73',\n  '56.67',\n  '62523.45',\n  '43352.55',\n  '19170.90'],\n ['Australia and Oceania',\n  'Solomon Islands',\n  'Personal Care',\n  'Offline',\n  'H',\n  '10/9/2013',\n  '466948831',\n  '11/26/2013',\n  '9390',\n  '81.73',\n  '56.67',\n  '767444.70',\n  '532131.30',\n  '235313.40'],\n ['Middle East and North Africa',\n  'Lebanon',\n  'Personal Care',\n  'Offline',\n  'L',\n  '4/24/2013',\n  '624285495',\n  '6/11/2013',\n  '8806',\n  '81.73',\n  '56.67',\n  '719714.38',\n  '499036.02',\n  '220678.36'],\n ['Sub-Saharan Africa',\n  'Cameroon',\n  'Personal Care',\n  'Online',\n  'L',\n  '3/3/2016',\n  '772375619',\n  '3/6/2016',\n  '1964',\n  '81.73',\n  '56.67',\n  '160517.72',\n  '111299.88',\n  '49217.84'],\n ['Sub-Saharan Africa',\n  'Burkina Faso',\n  'Personal Care',\n  'Offline',\n  'H',\n  '3/15/2010',\n  '418408572',\n  '3/15/2010',\n  '5249',\n  '81.73',\n  '56.67',\n  '429000.77',\n  '297460.83',\n  '131539.94'],\n ['Asia',\n  'Mongolia',\n  'Personal Care',\n  'Offline',\n  'M',\n  '1/9/2011',\n  '167255532',\n  '1/20/2011',\n  '3484',\n  '81.73',\n  '56.67',\n  '284747.32',\n  '197438.28',\n  '87309.04'],\n ['Central America and the Caribbean',\n  'Trinidad and Tobago',\n  'Personal Care',\n  'Online',\n  'H',\n  '6/4/2015',\n  '462797629',\n  '6/30/2015',\n  '958',\n  '81.73',\n  '56.67',\n  '78297.34',\n  '54289.86',\n  '24007.48'],\n ['Europe',\n  'Austria',\n  'Personal Care',\n  'Offline',\n  'M',\n  '5/10/2010',\n  '535740411',\n  '6/7/2010',\n  '6348',\n  '81.73',\n  '56.67',\n  '518822.04',\n  '359741.16',\n  '159080.88'],\n ['Europe',\n  'Ireland',\n  'Personal Care',\n  'Offline',\n  'H',\n  '2/26/2017',\n  '309285581',\n  '4/17/2017',\n  '3331',\n  '81.73',\n  '56.67',\n  '272242.63',\n  '188767.77',\n  '83474.86'],\n ['Middle East and North Africa',\n  'Saudi Arabia',\n  'Personal Care',\n  'Offline',\n  'M',\n  '1/6/2010',\n  '868854463',\n  '2/12/2010',\n  '2198',\n  '81.73',\n  '56.67',\n  '179642.54',\n  '124560.66',\n  '55081.88'],\n ['North America',\n  'Mexico',\n  'Personal Care',\n  'Offline',\n  'H',\n  '4/3/2015',\n  '862236058',\n  '5/1/2015',\n  '3665',\n  '81.73',\n  '56.67',\n  '299540.45',\n  '207695.55',\n  '91844.90'],\n ['Europe',\n  'Luxembourg',\n  'Personal Care',\n  'Online',\n  'L',\n  '5/17/2011',\n  '194858253',\n  '5/22/2011',\n  '1742',\n  '81.73',\n  '56.67',\n  '142373.66',\n  '98719.14',\n  '43654.52'],\n ['Asia',\n  'Myanmar',\n  'Personal Care',\n  'Online',\n  'C',\n  '11/13/2012',\n  '256547343',\n  '12/30/2012',\n  '6915',\n  '81.73',\n  '56.67',\n  '565162.95',\n  '391873.05',\n  '173289.90'],\n ['Asia',\n  'Taiwan',\n  'Personal Care',\n  'Online',\n  'M',\n  '8/24/2011',\n  '912325561',\n  '8/24/2011',\n  '6262',\n  '81.73',\n  '56.67',\n  '511793.26',\n  '354867.54',\n  '156925.72'],\n ['Middle East and North Africa',\n  'Egypt',\n  'Personal Care',\n  'Offline',\n  'M',\n  '11/4/2012',\n  '688697564',\n  '12/3/2012',\n  '9768',\n  '81.73',\n  '56.67',\n  '798338.64',\n  '553552.56',\n  '244786.08'],\n ['Sub-Saharan Africa',\n  'Equatorial Guinea',\n  'Personal Care',\n  'Online',\n  'C',\n  '5/2/2015',\n  '176700770',\n  '5/29/2015',\n  '8539',\n  '81.73',\n  '56.67',\n  '697892.47',\n  '483905.13',\n  '213987.34'],\n ['Middle East and North Africa',\n  'Iraq',\n  'Personal Care',\n  'Offline',\n  'M',\n  '8/8/2011',\n  '125753819',\n  '9/18/2011',\n  '2205',\n  '81.73',\n  '56.67',\n  '180214.65',\n  '124957.35',\n  '55257.30'],\n ['Europe',\n  'San Marino',\n  'Personal Care',\n  'Online',\n  'L',\n  '7/17/2016',\n  '239048612',\n  '7/26/2016',\n  '8651',\n  '81.73',\n  '56.67',\n  '707046.23',\n  '490252.17',\n  '216794.06'],\n ['Sub-Saharan Africa',\n  'Mozambique',\n  'Personal Care',\n  'Online',\n  'L',\n  '7/18/2016',\n  '467600715',\n  '7/25/2016',\n  '2297',\n  '81.73',\n  '56.67',\n  '187733.81',\n  '130170.99',\n  '57562.82'],\n ['Middle East and North Africa',\n  'Algeria',\n  'Personal Care',\n  'Online',\n  'H',\n  '11/20/2013',\n  '896900069',\n  '12/12/2013',\n  '1516',\n  '81.73',\n  '56.67',\n  '123902.68',\n  '85911.72',\n  '37990.96'],\n ['Europe',\n  'Malta',\n  'Personal Care',\n  'Offline',\n  'C',\n  '4/13/2017',\n  '274694526',\n  '5/11/2017',\n  '7069',\n  '81.73',\n  '56.67',\n  '577749.37',\n  '400600.23',\n  '177149.14'],\n ['Middle East and North Africa',\n  'Somalia',\n  'Personal Care',\n  'Offline',\n  'H',\n  '6/23/2015',\n  '937063682',\n  '7/8/2015',\n  '6822',\n  '81.73',\n  '56.67',\n  '557562.06',\n  '386602.74',\n  '170959.32'],\n ['Europe',\n  'Spain',\n  'Personal Care',\n  'Online',\n  'C',\n  '12/8/2013',\n  '955466639',\n  '1/27/2014',\n  '2666',\n  '81.73',\n  '56.67',\n  '217892.18',\n  '151082.22',\n  '66809.96'],\n ['Sub-Saharan Africa',\n  'Equatorial Guinea',\n  'Personal Care',\n  'Online',\n  'H',\n  '7/13/2012',\n  '564629733',\n  '7/26/2012',\n  '5340',\n  '81.73',\n  '56.67',\n  '436438.20',\n  '302617.80',\n  '133820.40'],\n ['Europe',\n  'Bosnia and Herzegovina',\n  'Personal Care',\n  'Offline',\n  'L',\n  '1/12/2010',\n  '356413495',\n  '1/18/2010',\n  '9528',\n  '81.73',\n  '56.67',\n  '778723.44',\n  '539951.76',\n  '238771.68'],\n ['Asia',\n  'Myanmar',\n  'Personal Care',\n  'Online',\n  'H',\n  '8/27/2010',\n  '355294692',\n  '10/12/2010',\n  '8450',\n  '81.73',\n  '56.67',\n  '690618.50',\n  '478861.50',\n  '211757.00'],\n ['Sub-Saharan Africa',\n  'Mauritania',\n  'Personal Care',\n  'Online',\n  'H',\n  '7/6/2016',\n  '910574185',\n  '8/12/2016',\n  '7991',\n  '81.73',\n  '56.67',\n  '653104.43',\n  '452849.97',\n  '200254.46'],\n ['Middle East and North Africa',\n  'Israel',\n  'Personal Care',\n  'Offline',\n  'H',\n  '10/6/2012',\n  '250010049',\n  '11/5/2012',\n  '2384',\n  '81.73',\n  '56.67',\n  '194844.32',\n  '135101.28',\n  '59743.04'],\n ['Middle East and North Africa',\n  'Tunisia ',\n  'Personal Care',\n  'Offline',\n  'L',\n  '4/16/2017',\n  '899818313',\n  '5/5/2017',\n  '5090',\n  '81.73',\n  '56.67',\n  '416005.70',\n  '288450.30',\n  '127555.40'],\n ['Sub-Saharan Africa',\n  'Kenya',\n  'Personal Care',\n  'Offline',\n  'C',\n  '10/26/2011',\n  '408785235',\n  '11/3/2011',\n  '7490',\n  '81.73',\n  '56.67',\n  '612157.70',\n  '424458.30',\n  '187699.40'],\n ['Asia',\n  'Bhutan',\n  'Personal Care',\n  'Online',\n  'H',\n  '6/4/2014',\n  '438556039',\n  '6/22/2014',\n  '7332',\n  '81.73',\n  '56.67',\n  '599244.36',\n  '415504.44',\n  '183739.92'],\n ['Central America and the Caribbean',\n  'Saint Kitts and Nevis ',\n  'Personal Care',\n  'Offline',\n  'C',\n  '1/26/2011',\n  '286354625',\n  '3/11/2011',\n  '7552',\n  '81.73',\n  '56.67',\n  '617224.96',\n  '427971.84',\n  '189253.12'],\n ['Sub-Saharan Africa',\n  'Niger',\n  'Personal Care',\n  'Online',\n  'H',\n  '3/19/2017',\n  '996951186',\n  '4/30/2017',\n  '8865',\n  '81.73',\n  '56.67',\n  '724536.45',\n  '502379.55',\n  '222156.90'],\n ['Europe',\n  'San Marino',\n  'Personal Care',\n  'Online',\n  'L',\n  '1/6/2012',\n  '185947310',\n  '1/27/2012',\n  '4796',\n  '81.73',\n  '56.67',\n  '391977.08',\n  '271789.32',\n  '120187.76'],\n ['Asia',\n  'Uzbekistan',\n  'Personal Care',\n  'Offline',\n  'L',\n  '11/29/2011',\n  '690552794',\n  '12/7/2011',\n  '8772',\n  '81.73',\n  '56.67',\n  '716935.56',\n  '497109.24',\n  '219826.32'],\n ['Middle East and North Africa',\n  'Turkey',\n  'Personal Care',\n  'Online',\n  'M',\n  '6/2/2014',\n  '962686717',\n  '6/21/2014',\n  '9247',\n  '81.73',\n  '56.67',\n  '755757.31',\n  '524027.49',\n  '231729.82'],\n ['Sub-Saharan Africa',\n  'Cameroon',\n  'Personal Care',\n  'Online',\n  'C',\n  '10/13/2013',\n  '886033475',\n  '10/20/2013',\n  '5850',\n  '81.73',\n  '56.67',\n  '478120.50',\n  '331519.50',\n  '146601.00'],\n ['Sub-Saharan Africa',\n  'Niger',\n  'Personal Care',\n  'Online',\n  'M',\n  '7/15/2017',\n  '694142234',\n  '8/7/2017',\n  '967',\n  '81.73',\n  '56.67',\n  '79032.91',\n  '54799.89',\n  '24233.02'],\n ['Sub-Saharan Africa',\n  'Comoros',\n  'Personal Care',\n  'Offline',\n  'C',\n  '5/3/2012',\n  '211463057',\n  '6/15/2012',\n  '5473',\n  '81.73',\n  '56.67',\n  '447308.29',\n  '310154.91',\n  '137153.38'],\n ['Europe',\n  'Slovenia',\n  'Personal Care',\n  'Offline',\n  'M',\n  '11/23/2014',\n  '700304019',\n  '12/21/2014',\n  '4376',\n  '81.73',\n  '56.67',\n  '357650.48',\n  '247987.92',\n  '109662.56'],\n ['Asia',\n  'Thailand',\n  'Personal Care',\n  'Offline',\n  'C',\n  '9/24/2010',\n  '490689170',\n  '11/9/2010',\n  '4684',\n  '81.73',\n  '56.67',\n  '382823.32',\n  '265442.28',\n  '117381.04'],\n ['Australia and Oceania',\n  'Vanuatu',\n  'Personal Care',\n  'Offline',\n  'L',\n  '2/23/2010',\n  '239721095',\n  '3/9/2010',\n  '7654',\n  '81.73',\n  '56.67',\n  '625561.42',\n  '433752.18',\n  '191809.24'],\n ['Sub-Saharan Africa',\n  \"Cote d'Ivoire\",\n  'Personal Care',\n  'Offline',\n  'C',\n  '7/28/2012',\n  '432663762',\n  '8/27/2012',\n  '3677',\n  '81.73',\n  '56.67',\n  '300521.21',\n  '208375.59',\n  '92145.62'],\n ['Europe',\n  'Iceland',\n  'Personal Care',\n  'Offline',\n  'L',\n  '11/7/2013',\n  '546140086',\n  '12/19/2013',\n  '3843',\n  '81.73',\n  '56.67',\n  '314088.39',\n  '217782.81',\n  '96305.58'],\n ['Europe',\n  'Cyprus',\n  'Personal Care',\n  'Online',\n  'L',\n  '1/2/2014',\n  '561534678',\n  '1/29/2014',\n  '9445',\n  '81.73',\n  '56.67',\n  '771939.85',\n  '535248.15',\n  '236691.70'],\n ['Asia',\n  'Sri Lanka',\n  'Personal Care',\n  'Offline',\n  'H',\n  '5/31/2013',\n  '124009311',\n  '6/8/2013',\n  '5966',\n  '81.73',\n  '56.67',\n  '487601.18',\n  '338093.22',\n  '149507.96'],\n ['Sub-Saharan Africa',\n  'Guinea-Bissau',\n  'Personal Care',\n  'Online',\n  'M',\n  '8/6/2015',\n  '963359200',\n  '8/30/2015',\n  '8250',\n  '81.73',\n  '56.67',\n  '674272.50',\n  '467527.50',\n  '206745.00'],\n ['Sub-Saharan Africa',\n  'Namibia',\n  'Personal Care',\n  'Offline',\n  'M',\n  '5/3/2012',\n  '726935136',\n  '6/19/2012',\n  '5116',\n  '81.73',\n  '56.67',\n  '418130.68',\n  '289923.72',\n  '128206.96'],\n ['Central America and the Caribbean',\n  'Guatemala',\n  'Personal Care',\n  'Offline',\n  'C',\n  '2/8/2017',\n  '192351138',\n  '2/24/2017',\n  '9831',\n  '81.73',\n  '56.67',\n  '803487.63',\n  '557122.77',\n  '246364.86'],\n ['Asia',\n  'Bhutan',\n  'Personal Care',\n  'Online',\n  'M',\n  '11/23/2012',\n  '724397122',\n  '12/7/2012',\n  '4061',\n  '81.73',\n  '56.67',\n  '331905.53',\n  '230136.87',\n  '101768.66'],\n ['Asia',\n  'Laos',\n  'Personal Care',\n  'Online',\n  'H',\n  '5/16/2014',\n  '305248534',\n  '6/26/2014',\n  '8679',\n  '81.73',\n  '56.67',\n  '709334.67',\n  '491838.93',\n  '217495.74'],\n ['Central America and the Caribbean',\n  'Barbados',\n  'Personal Care',\n  'Online',\n  'H',\n  '6/9/2011',\n  '154872739',\n  '7/20/2011',\n  '9140',\n  '81.73',\n  '56.67',\n  '747012.20',\n  '517963.80',\n  '229048.40'],\n ['Australia and Oceania',\n  'Tuvalu',\n  'Personal Care',\n  'Offline',\n  'C',\n  '4/30/2011',\n  '109095370',\n  '6/6/2011',\n  '2599',\n  '81.73',\n  '56.67',\n  '212416.27',\n  '147285.33',\n  '65130.94'],\n ['Europe',\n  'Russia',\n  'Personal Care',\n  'Offline',\n  'H',\n  '11/12/2011',\n  '473845756',\n  '12/16/2011',\n  '344',\n  '81.73',\n  '56.67',\n  '28115.12',\n  '19494.48',\n  '8620.64'],\n ['Asia',\n  'Indonesia',\n  'Personal Care',\n  'Offline',\n  'L',\n  '12/5/2010',\n  '328383767',\n  '12/18/2010',\n  '4909',\n  '81.73',\n  '56.67',\n  '401212.57',\n  '278193.03',\n  '123019.54'],\n ['Europe',\n  'Norway',\n  'Personal Care',\n  'Offline',\n  'M',\n  '1/14/2014',\n  '634033286',\n  '1/15/2014',\n  '3394',\n  '81.73',\n  '56.67',\n  '277391.62',\n  '192337.98',\n  '85053.64']]"
     ]
    }
   ],
   "source": [
    "# 4.Display the products with atleast 2 occurences of 'a' (Using spark)\n",
    "def product_count(product):\n",
    "   cnt = 0\n",
    "   for ch in product:\n",
    "      if ch == 'a':\n",
    "         cnt = cnt + 1\n",
    "   if cnt > 1:\n",
    "      return True\n",
    "   return False\n",
    "\n",
    "product_rdd = sales_rdd.filter(lambda x : product_count(x[2]))\n",
    "product_rdd.count()\n",
    "product_rdd.collect()"
   ]
  },
  {
   "cell_type": "code",
   "execution_count": 0,
   "metadata": {
    "application/vnd.databricks.v1+cell": {
     "cellMetadata": {
      "byteLimit": 2048000,
      "rowLimit": 10000
     },
     "inputWidgets": {},
     "nuid": "7d3ffea1-128f-4751-8866-14c7ff73cdba",
     "showTitle": false,
     "title": ""
    }
   },
   "outputs": [],
   "source": [
    "product_rdd.coalesce(1).saveAsTextFile('/FileStore/tables/products_withaa')"
   ]
  },
  {
   "cell_type": "code",
   "execution_count": 0,
   "metadata": {
    "application/vnd.databricks.v1+cell": {
     "cellMetadata": {
      "byteLimit": 2048000,
      "rowLimit": 10000
     },
     "inputWidgets": {},
     "nuid": "fb1287d4-2567-4ec3-aead-5c934aec52db",
     "showTitle": false,
     "title": ""
    }
   },
   "outputs": [
    {
     "output_type": "stream",
     "name": "stdout",
     "output_type": "stream",
     "text": [
      "Out[33]: [('Asia', ('Myanmar', 199967)),\n ('Australia and Oceania', ('Australia', 183909)),\n ('Middle East and North Africa', ('Somalia', 193065)),\n ('Central America and the Caribbean', ('Grenada', 205943)),\n ('Europe', ('Macedonia', 203078)),\n ('Sub-Saharan Africa', ('Equatorial Guinea', 197767)),\n ('North America', ('United States of America', 159519))]"
     ]
    }
   ],
   "source": [
    "# 5.Display country in each region with highest units sold. (Using spark)\n",
    "\n",
    "country_region_units_rdd = sales_rdd.map(lambda x : ((x[0],x[1]),int(x[8])))\n",
    "country_region_units_rdd.take(10)\n",
    "country_region_units_rdd = country_region_units_rdd.reduceByKey(lambda a,b : a+b)\n",
    "country_region_units_rdd.take(10)\n",
    "country_region_units_rdd.map(lambda x: (x[0][0],(x[0][1],x[1]))).reduceByKey(lambda a,b : max(a,b ,key=lambda x : x[1])).collect()\n",
    "region_rdd = country_region_units_rdd.map(lambda x : ((x[0][0]),(x[0][1],x[1]))) \n",
    "region_rdd.take(10)\n",
    "region_rdd = region_rdd.reduceByKey(lambda a,b : max(a,b ,key=lambda x : x[1]))\n",
    "region_rdd.collect()"
   ]
  },
  {
   "cell_type": "code",
   "execution_count": 0,
   "metadata": {
    "application/vnd.databricks.v1+cell": {
     "cellMetadata": {
      "byteLimit": 2048000,
      "rowLimit": 10000
     },
     "inputWidgets": {},
     "nuid": "9b5b6c45-3273-40bf-ae36-0a7fe934efae",
     "showTitle": false,
     "title": ""
    }
   },
   "outputs": [],
   "source": [
    "region_rdd.coalesce(1).saveAsTextFile('/FileStore/tables/region_country_with_maxunitssold')"
   ]
  },
  {
   "cell_type": "code",
   "execution_count": 0,
   "metadata": {
    "application/vnd.databricks.v1+cell": {
     "cellMetadata": {
      "byteLimit": 2048000,
      "rowLimit": 10000
     },
     "inputWidgets": {},
     "nuid": "eff15ef0-13b2-4b6e-9924-4ca47a17febd",
     "showTitle": false,
     "title": ""
    }
   },
   "outputs": [
    {
     "output_type": "stream",
     "name": "stdout",
     "output_type": "stream",
     "text": [
      "Out[36]: [('Baby Food', 255.28, 159.42),\n ('Beverages', 47.45, 31.79),\n ('Cereal', 205.7, 117.11),\n ('Clothes', 109.28, 35.84),\n ('Cosmetics', 437.2, 263.33),\n ('Fruits', 9.33, 6.92),\n ('Household', 668.27, 502.54),\n ('Meat', 421.89, 364.69),\n ('Office Supplies', 651.21, 524.96),\n ('Personal Care', 81.73, 56.67),\n ('Snacks', 152.58, 97.44),\n ('Vegetables', 154.06, 90.93)]"
     ]
    }
   ],
   "source": [
    "# 6.Display the unit price and unit cost of each item in ascending order. (Using spark)\n",
    "\n",
    "item_rdd = sales_rdd.map(lambda x : (x[2],round(float(x[9]),4),round(float(x[10]),4)))\n",
    "item_rdd = item_rdd.distinct().sortBy(lambda x : x[0])\n",
    "item_rdd.collect()\n"
   ]
  },
  {
   "cell_type": "code",
   "execution_count": 0,
   "metadata": {
    "application/vnd.databricks.v1+cell": {
     "cellMetadata": {
      "byteLimit": 2048000,
      "rowLimit": 10000
     },
     "inputWidgets": {},
     "nuid": "34e599f4-abc5-42bb-aa02-f34cd82b41e9",
     "showTitle": false,
     "title": ""
    }
   },
   "outputs": [],
   "source": [
    "item_rdd.coalesce(1).saveAsTextFile('/FileStore/tables/item_unitprice_unitcost')"
   ]
  },
  {
   "cell_type": "code",
   "execution_count": 0,
   "metadata": {
    "application/vnd.databricks.v1+cell": {
     "cellMetadata": {
      "byteLimit": 2048000,
      "rowLimit": 10000
     },
     "inputWidgets": {},
     "nuid": "8b740f3a-ae28-4150-bec7-f29361f02366",
     "showTitle": false,
     "title": ""
    }
   },
   "outputs": [
    {
     "output_type": "stream",
     "name": "stdout",
     "output_type": "stream",
     "text": [
      "Out[38]: [(2010, 632),\n (2011, 658),\n (2012, 678),\n (2013, 660),\n (2014, 660),\n (2015, 679),\n (2016, 670),\n (2017, 363)]"
     ]
    }
   ],
   "source": [
    "# 7.Display the number of sales yearwise. (Using pyspark)\n",
    "sales_year_rdd = sales_rdd.map(lambda x : (int(x[5].split('/')[2]), 1))\n",
    "sales_year_rdd = sales_year_rdd.reduceByKey(lambda a,b : a + b).sortBy(lambda x : x[0])\n",
    "sales_year_rdd.collect()"
   ]
  },
  {
   "cell_type": "code",
   "execution_count": 0,
   "metadata": {
    "application/vnd.databricks.v1+cell": {
     "cellMetadata": {
      "byteLimit": 2048000,
      "rowLimit": 10000
     },
     "inputWidgets": {},
     "nuid": "df81f0a2-bf41-4f19-9f0e-d46f0eb9e991",
     "showTitle": false,
     "title": ""
    }
   },
   "outputs": [],
   "source": [
    "sales_year_rdd.coalesce(1).saveAsTextFile('/FileStore/tables/sales_yearwise')"
   ]
  },
  {
   "cell_type": "code",
   "execution_count": 0,
   "metadata": {
    "application/vnd.databricks.v1+cell": {
     "cellMetadata": {
      "byteLimit": 2048000,
      "rowLimit": 10000
     },
     "inputWidgets": {},
     "nuid": "e95d3918-2cd6-44ab-bf14-1475a6ef82c1",
     "showTitle": false,
     "title": ""
    }
   },
   "outputs": [
    {
     "output_type": "stream",
     "name": "stdout",
     "output_type": "stream",
     "text": [
      "Out[40]: [('Baby Food', 445),\n ('Snacks', 398),\n ('Cereal', 385),\n ('Clothes', 386),\n ('Cosmetics', 424),\n ('Fruits', 447),\n ('Beverages', 447),\n ('Personal Care', 415),\n ('Office Supplies', 420),\n ('Meat', 399),\n ('Vegetables', 410),\n ('Household', 424)]"
     ]
    }
   ],
   "source": [
    "# 8.Display the number of orders for each item. (Using pyspark)\n",
    "items_rdd = sales_rdd.map(lambda x : (x[2],1))\n",
    "items_rdd = items_rdd.reduceByKey(lambda a,b : a+b)\n",
    "items_rdd.collect()\n"
   ]
  },
  {
   "cell_type": "code",
   "execution_count": 0,
   "metadata": {
    "application/vnd.databricks.v1+cell": {
     "cellMetadata": {
      "byteLimit": 2048000,
      "rowLimit": 10000
     },
     "inputWidgets": {},
     "nuid": "c6ca5626-b715-44cd-b6e1-5da40f4b2247",
     "showTitle": false,
     "title": ""
    }
   },
   "outputs": [],
   "source": [
    "items_rdd.coalesce(1).saveAsTextFile('/FileStore/tables/item_ordercount')"
   ]
  },
  {
   "cell_type": "code",
   "execution_count": 0,
   "metadata": {
    "application/vnd.databricks.v1+cell": {
     "cellMetadata": {},
     "inputWidgets": {},
     "nuid": "44521a29-042a-461e-b75e-30aea3ac3550",
     "showTitle": false,
     "title": ""
    }
   },
   "outputs": [],
   "source": []
  }
 ],
 "metadata": {
  "application/vnd.databricks.v1+notebook": {
   "dashboards": [],
   "language": "python",
   "notebookMetadata": {
    "pythonIndentUnit": 4
   },
   "notebookName": "myfirstpysparkproject",
   "notebookOrigID": 3914676587867586,
   "widgets": {}
  }
 },
 "nbformat": 4,
 "nbformat_minor": 0
}
